{
 "cells": [
  {
   "cell_type": "markdown",
   "metadata": {
    "id": "NjKRHoXW5mtD"
   },
   "source": [
    "## 1. IMPORT LIBRARIES"
   ]
  },
  {
   "cell_type": "code",
   "execution_count": 4,
   "metadata": {
    "executionInfo": {
     "elapsed": 1785,
     "status": "ok",
     "timestamp": 1708937923390,
     "user": {
      "displayName": "Tolga TOSUN",
      "userId": "02019990685565649191"
     },
     "user_tz": -60
    },
    "id": "X47l39G6poSu"
   },
   "outputs": [],
   "source": [
    "# Import TensorFlow Datasets\n",
    "import tensorflow_datasets as tfds"
   ]
  },
  {
   "cell_type": "code",
   "execution_count": 5,
   "metadata": {
    "executionInfo": {
     "elapsed": 3124,
     "status": "ok",
     "timestamp": 1708937926513,
     "user": {
      "displayName": "Tolga TOSUN",
      "userId": "02019990685565649191"
     },
     "user_tz": -60
    },
    "id": "uuS3uau_utht"
   },
   "outputs": [],
   "source": [
    "# Import Preprocess and Model Libraries\n",
    "import tensorflow as tf\n",
    "from keras.models import Sequential\n",
    "from keras.layers import Flatten, Dense, Dropout\n",
    "from keras.utils import to_categorical\n",
    "from keras.optimizers import SGD\n",
    "#from keras.layers.experimental import preprocessing\n",
    "#from keras.preprocessing.image import load_img, img_to_array\n",
    "from keras import backend as K\n",
    "K.set_image_data_format('channels_last')"
   ]
  },
  {
   "cell_type": "code",
   "execution_count": 6,
   "metadata": {
    "executionInfo": {
     "elapsed": 3,
     "status": "ok",
     "timestamp": 1708937926513,
     "user": {
      "displayName": "Tolga TOSUN",
      "userId": "02019990685565649191"
     },
     "user_tz": -60
    },
    "id": "H4E3SOHavaib"
   },
   "outputs": [],
   "source": [
    "# Import Other Libraries\n",
    "import matplotlib.pyplot as plt\n",
    "import random\n",
    "import numpy as np\n",
    "import pandas as pd"
   ]
  },
  {
   "cell_type": "markdown",
   "metadata": {
    "id": "OG2b62Iq5t37"
   },
   "source": [
    "## 2. LOAD, DISCOVER AND PREPROCESS THE DATA"
   ]
  },
  {
   "cell_type": "markdown",
   "metadata": {
    "id": "AxLQ8r6rD04j"
   },
   "source": [
    "### 2.1. Load the Data"
   ]
  },
  {
   "cell_type": "code",
   "execution_count": 7,
   "metadata": {
    "colab": {
     "base_uri": "https://localhost:8080/",
     "height": 148,
     "referenced_widgets": [
      "0955b799805e4938b3efc34e2385d7be",
      "6db937063cd74a2aa20b8dfa43254963",
      "131e103bc449408284e41ca6021b1422",
      "313c3ae4618247b7a15f4a94c01fdb4c",
      "4bc8fe45b9df4919945bb30a0415d0d1",
      "299ddda3554641be8ce7b4455536b93c",
      "66324cc317ab495ca3575126781ecbef",
      "dc05877059984b1c8ab4727f2fd41d6b",
      "409dfa99c0024b46b154317cdc3846af",
      "bebe342beca44111bf50c08a4d174b26",
      "f354926b471d4c52a1c1fcfa5a264d28",
      "351cbbe1768045319098cd4f73b457eb",
      "59f5bf44be4543b1aa1e7144d99f4612",
      "48278a1cf61c49d9a64b072b898d7d34",
      "3ca1143dbcc843ff9358cc6628490199",
      "0564c91850c14b8e9854329efdad5b20",
      "ef6a75445fb44885963e6c46f8b8f8f3",
      "216a689452ae4555bfbf7de3bb509b5d",
      "e890cace8c75450f8c91636f7c7935d1",
      "a0dab2fa65314a64bf81022fb9567ca4",
      "1318e1860f10445a9f98fbf9f3915bfb",
      "127abd84154a43c7ba820b9f1200f0c2",
      "a4e6a86f75f9415c9da6c2757b0801ed",
      "8c7c5d80949f4981af8bfc3547d3d330",
      "f4ef2498c8204fccafa0bd9c0094a0d8",
      "efcc815cc126478c8c940026d529298b",
      "e0b1bea692264b1180cffab06b3e2d92",
      "bd0cfc58206c499fb0d3e7242dc8214a",
      "7c19fd51f2c44acab018949bbd40495d",
      "d835434556df4232bc8178580abb9607",
      "a1c7820c2d644041bdb350a4f29ed821",
      "52ae891f43db46909efd32486a706668",
      "26aca8c0d96c40bfa0f7f143e424d4bc",
      "d7878bd749164f49aa6c305bc4596277",
      "eee7e6ef2dd045df88e58b367fe5481a",
      "b546a4dc382443b68f4b911eba735356",
      "557a3acdf35c4a3a9e7c75580de101ad",
      "d4e090b4f0c64c21b20aa2488ead71d5",
      "b19aba4e4ca2470795f2e5bac626a3f9",
      "18bfd4c985a046ff934fad01ce36232e",
      "f326cc6621f14ecd9b7750cf2a77c42d",
      "55e5ae92023049128d8e81f4c4caab4f",
      "845fed98e7544c8b95ac67e452c9b727",
      "66679ac91ca243a2a9803624d9e6aa56",
      "8192890c177945b0b79c7431e7f6a784",
      "1f82a0f2654342699d7a5cef71c3b97e",
      "4d733162014d49489f9d91f7da339c2f",
      "7ddda68a4dc246469664c2ed27a50387",
      "edca91a3e27e4d0fbcef9ac6325bdf7a",
      "7ce980e1debb495f8a2bb537d53c680c",
      "80d623f2fcf4480bba7bc874d2e12075",
      "dfe953066dd340dda355ab8c9097c56f",
      "2b305ebad6b24075985d7630e88caae7",
      "e13cb60f2cc544d48602c34628ecb5ac",
      "8b0112c9f4994ad38eaf0df25712af52",
      "09e65d4242c2480692db4eec0aac6990",
      "b1af6d53c1554746951cc3686f77c8e4",
      "692d7dc1a4d24abca84175d33a8c93d9",
      "c2eb39514a334adc9c09032ada3b85f4",
      "e9bff8770fd94e8599c279b58b08bac3",
      "2e59f6678dc942ebb270075480e567c4",
      "2c1ee5667ac542d68cd879f80e7374e9",
      "c71ea9fe62ee406d96074cfe287c90a6",
      "ed5297e6528f4c47a0178ac7a3115ace",
      "79ec5351718248c39b8695ebe9e422b3",
      "e130c43c3a574a7cac11fd61de7603a9",
      "37ffa744b93a49fbbf1ec2263145eda3",
      "56dfff2157c64f298245dc2e9ddf5506",
      "b88680f2feb44256a7a24771aaab6d5b",
      "8b8fe3a1ec0d4291a1ee29df5e1d54a9",
      "9f7276b271ad413facadb7a299252bf4",
      "37f17419fd974d73ad64d9e242c17eeb",
      "8ccb0046a6e24a4881d685803fec5526",
      "9bc2d104543a457c8d1404182d5578b0",
      "5863ababd46f421d858e9693cb34a052",
      "03d1d50b3cdb4690804b14a7e4b61e05",
      "2e7a0753c6eb4ef29637216d24276772",
      "abce60c70a5a4414b3a490f2549a29ad",
      "69bc0aeec8264892aeab50077d948d30",
      "73596392e5d44736a973d87983030d9a",
      "ef8502cc139946c4984c5e47fff6a547",
      "54f1d535dae54c7497fd95eb113db88f",
      "73b1c0f1cb4045caad256f042dcc0345",
      "50da0edfe7384fc4afb43839842ceebd",
      "e1041959cd63467b96f85e7fef9c9cc6",
      "4dea8f603bc445f4820a3ca7817b52fa",
      "41efab4500e747e483cba3a892f1b8b6",
      "65834510963f4198a23dd7262a06070c"
     ]
    },
    "executionInfo": {
     "elapsed": 33145,
     "status": "ok",
     "timestamp": 1708937959656,
     "user": {
      "displayName": "Tolga TOSUN",
      "userId": "02019990685565649191"
     },
     "user_tz": -60
    },
    "id": "ftN6iZDIpoVz",
    "outputId": "848f4e31-fa4c-43db-afca-0766e20e15ab"
   },
   "outputs": [
    {
     "name": "stdout",
     "output_type": "stream",
     "text": [
      "Downloading and preparing dataset 29.45 MiB (download: 29.45 MiB, generated: 36.42 MiB, total: 65.87 MiB) to /root/tensorflow_datasets/fashion_mnist/3.0.1...\n"
     ]
    },
    {
     "data": {
      "application/vnd.jupyter.widget-view+json": {
       "model_id": "0955b799805e4938b3efc34e2385d7be",
       "version_major": 2,
       "version_minor": 0
      },
      "text/plain": [
       "Dl Completed...: 0 url [00:00, ? url/s]"
      ]
     },
     "metadata": {},
     "output_type": "display_data"
    },
    {
     "data": {
      "application/vnd.jupyter.widget-view+json": {
       "model_id": "351cbbe1768045319098cd4f73b457eb",
       "version_major": 2,
       "version_minor": 0
      },
      "text/plain": [
       "Dl Size...: 0 MiB [00:00, ? MiB/s]"
      ]
     },
     "metadata": {},
     "output_type": "display_data"
    },
    {
     "data": {
      "application/vnd.jupyter.widget-view+json": {
       "model_id": "a4e6a86f75f9415c9da6c2757b0801ed",
       "version_major": 2,
       "version_minor": 0
      },
      "text/plain": [
       "Extraction completed...: 0 file [00:00, ? file/s]"
      ]
     },
     "metadata": {},
     "output_type": "display_data"
    },
    {
     "data": {
      "application/vnd.jupyter.widget-view+json": {
       "model_id": "d7878bd749164f49aa6c305bc4596277",
       "version_major": 2,
       "version_minor": 0
      },
      "text/plain": [
       "Generating splits...:   0%|          | 0/2 [00:00<?, ? splits/s]"
      ]
     },
     "metadata": {},
     "output_type": "display_data"
    },
    {
     "data": {
      "application/vnd.jupyter.widget-view+json": {
       "model_id": "8192890c177945b0b79c7431e7f6a784",
       "version_major": 2,
       "version_minor": 0
      },
      "text/plain": [
       "Generating train examples...:   0%|          | 0/60000 [00:00<?, ? examples/s]"
      ]
     },
     "metadata": {},
     "output_type": "display_data"
    },
    {
     "data": {
      "application/vnd.jupyter.widget-view+json": {
       "model_id": "09e65d4242c2480692db4eec0aac6990",
       "version_major": 2,
       "version_minor": 0
      },
      "text/plain": [
       "Shuffling /root/tensorflow_datasets/fashion_mnist/3.0.1.incomplete8T271L/fashion_mnist-train.tfrecord*...:   0…"
      ]
     },
     "metadata": {},
     "output_type": "display_data"
    },
    {
     "data": {
      "application/vnd.jupyter.widget-view+json": {
       "model_id": "37ffa744b93a49fbbf1ec2263145eda3",
       "version_major": 2,
       "version_minor": 0
      },
      "text/plain": [
       "Generating test examples...:   0%|          | 0/10000 [00:00<?, ? examples/s]"
      ]
     },
     "metadata": {},
     "output_type": "display_data"
    },
    {
     "data": {
      "application/vnd.jupyter.widget-view+json": {
       "model_id": "abce60c70a5a4414b3a490f2549a29ad",
       "version_major": 2,
       "version_minor": 0
      },
      "text/plain": [
       "Shuffling /root/tensorflow_datasets/fashion_mnist/3.0.1.incomplete8T271L/fashion_mnist-test.tfrecord*...:   0%…"
      ]
     },
     "metadata": {},
     "output_type": "display_data"
    },
    {
     "name": "stdout",
     "output_type": "stream",
     "text": [
      "Dataset fashion_mnist downloaded and prepared to /root/tensorflow_datasets/fashion_mnist/3.0.1. Subsequent calls will reuse this data.\n"
     ]
    }
   ],
   "source": [
    "# Load the Fashion MNIST dataset\n",
    "(train_dataset, test_dataset), dataset_info = tfds.load('fashion_mnist'\n",
    "                                        , split=['train', 'test']\n",
    "                                        , shuffle_files=True\n",
    "                                        , as_supervised=True\n",
    "                                        , with_info=True)"
   ]
  },
  {
   "cell_type": "code",
   "execution_count": 8,
   "metadata": {
    "colab": {
     "base_uri": "https://localhost:8080/"
    },
    "executionInfo": {
     "elapsed": 7,
     "status": "ok",
     "timestamp": 1708937959656,
     "user": {
      "displayName": "Tolga TOSUN",
      "userId": "02019990685565649191"
     },
     "user_tz": -60
    },
    "id": "6820AaSp9Awz",
    "outputId": "7de39395-d940-483e-f1e5-a0030bf31172"
   },
   "outputs": [
    {
     "name": "stdout",
     "output_type": "stream",
     "text": [
      "['T-shirt/top', 'Trouser', 'Pullover', 'Dress', 'Coat', 'Sandal', 'Shirt', 'Sneaker', 'Bag', 'Ankle boot']\n"
     ]
    }
   ],
   "source": [
    "# Define class names\n",
    "class_names = dataset_info.features['label'].names\n",
    "print(class_names)"
   ]
  },
  {
   "cell_type": "markdown",
   "metadata": {
    "id": "a-q5T3k2D8aM"
   },
   "source": [
    "### 2.2. Number of Examples"
   ]
  },
  {
   "cell_type": "code",
   "execution_count": 9,
   "metadata": {
    "colab": {
     "base_uri": "https://localhost:8080/"
    },
    "executionInfo": {
     "elapsed": 5,
     "status": "ok",
     "timestamp": 1708937959656,
     "user": {
      "displayName": "Tolga TOSUN",
      "userId": "02019990685565649191"
     },
     "user_tz": -60
    },
    "id": "0BbRppOa7CeX",
    "outputId": "5f277288-9631-4abf-a125-41c91b1b8849"
   },
   "outputs": [
    {
     "name": "stdout",
     "output_type": "stream",
     "text": [
      "Number of examples in train datasets is 60000\n",
      "Number of examples test datasets is 10000\n"
     ]
    }
   ],
   "source": [
    "train_num = dataset_info.splits['train'].num_examples\n",
    "print(\"Number of examples in train datasets is \" + str(train_num))\n",
    "\n",
    "test_num = dataset_info.splits['test'].num_examples\n",
    "print(\"Number of examples test datasets is \" + str(test_num))"
   ]
  },
  {
   "cell_type": "markdown",
   "metadata": {
    "id": "AVwFWINdDx9W"
   },
   "source": [
    "### 2.3. Normalization and Caching"
   ]
  },
  {
   "cell_type": "code",
   "execution_count": 10,
   "metadata": {
    "executionInfo": {
     "elapsed": 4,
     "status": "ok",
     "timestamp": 1708937959656,
     "user": {
      "displayName": "Tolga TOSUN",
      "userId": "02019990685565649191"
     },
     "user_tz": -60
    },
    "id": "A1qqcYWG3506"
   },
   "outputs": [],
   "source": [
    "def normalize_images(images, labels):\n",
    "  return tf.cast(images, tf.float32)/255.0, labels\n",
    "\n",
    "# Normalize the train and test datasets\n",
    "normalized_train = train_dataset.map(normalize_images)\n",
    "normalized_test= test_dataset.map(normalize_images)\n",
    "\n",
    "# The code caches the training and test datasets in memory\n",
    "# , allowing for faster access during subsequent operations.\n",
    "normalized_train =  normalized_train.cache()\n",
    "normalized_test  =  normalized_test.cache()"
   ]
  },
  {
   "cell_type": "markdown",
   "metadata": {
    "id": "PUz4w15mEFJ6"
   },
   "source": [
    "### 2.4. Display Examples"
   ]
  },
  {
   "cell_type": "code",
   "execution_count": 11,
   "metadata": {
    "colab": {
     "base_uri": "https://localhost:8080/",
     "height": 667
    },
    "executionInfo": {
     "elapsed": 14632,
     "status": "ok",
     "timestamp": 1708937974285,
     "user": {
      "displayName": "Tolga TOSUN",
      "userId": "02019990685565649191"
     },
     "user_tz": -60
    },
    "id": "IdJdNXbj55T4",
    "outputId": "f5f1ff29-163c-4503-ed5e-9a97f1eeb0af"
   },
   "outputs": [
    {
     "data": {
      "image/png": "[encoded data removed]",
      "text/plain": [
       "<Figure size 1500x1000 with 20 Axes>"
      ]
     },
     "metadata": {},
     "output_type": "display_data"
    }
   ],
   "source": [
    "'''\n",
    "Display 20 random images from test dataset\n",
    "'''\n",
    "\n",
    "# Function to display a grid of images\n",
    "def display_images(images, labels, class_names, ncols=5):\n",
    "    plt.figure(figsize=(15, 10))\n",
    "    for i, (image, label) in enumerate(zip(images, labels)):\n",
    "        plt.subplot(len(images) // ncols + 1, ncols, i + 1)\n",
    "        plt.xticks([])\n",
    "        plt.yticks([])\n",
    "        plt.grid(False)\n",
    "        plt.imshow(image, cmap=plt.cm.binary)\n",
    "        plt.xlabel(class_names[label])\n",
    "    plt.show()\n",
    "\n",
    "# Select 20 random images from the test set\n",
    "random_indices = np.random.choice(len(normalized_test), size=20, replace=False)\n",
    "random_images = []\n",
    "random_labels = []\n",
    "for i in random_indices:\n",
    "    for image, label in normalized_test.skip(i).take(1):\n",
    "        random_images.append(image.numpy())\n",
    "        random_labels.append(label.numpy())\n",
    "\n",
    "# Display the random images\n",
    "display_images(random_images, random_labels, class_names)"
   ]
  },
  {
   "cell_type": "markdown",
   "metadata": {
    "id": "uWW5Ty_oEPHO"
   },
   "source": [
    "### 2.5. Bias Control"
   ]
  },
  {
   "cell_type": "code",
   "execution_count": 12,
   "metadata": {
    "colab": {
     "base_uri": "https://localhost:8080/",
     "height": 1000
    },
    "executionInfo": {
     "elapsed": 45726,
     "status": "ok",
     "timestamp": 1708938020007,
     "user": {
      "displayName": "Tolga TOSUN",
      "userId": "02019990685565649191"
     },
     "user_tz": -60
    },
    "id": "0jKd9Lz-DQ9p",
    "outputId": "9efd8303-eb4c-4e36-e1be-ff06128eb325"
   },
   "outputs": [
    {
     "data": {
      "image/png": "[encoded data removed]",
      "text/plain": [
       "<Figure size 640x480 with 1 Axes>"
      ]
     },
     "metadata": {},
     "output_type": "display_data"
    },
    {
     "data": {
      "image/png": "[encoded data removed]",
      "text/plain": [
       "<Figure size 640x480 with 1 Axes>"
      ]
     },
     "metadata": {},
     "output_type": "display_data"
    }
   ],
   "source": [
    "def label_graph_creator(dataset, class_names, title_=''):\n",
    "  # Initialize an empty dictionary to store label counts\n",
    "  label_counts = {label: 0 for label in class_names}\n",
    "\n",
    "  # Iterate through the dataset to count the occurrences of each label\n",
    "  for _, label in dataset:\n",
    "    label_name = class_names[label.numpy()]\n",
    "    label_counts[label_name] += 1\n",
    "\n",
    "  # Plot the bar graph\n",
    "  plt.bar(label_counts.keys(), label_counts.values())\n",
    "  plt.xlabel('Labels')\n",
    "  plt.ylabel('Counts')\n",
    "  plt.title(title_)\n",
    "  plt.xticks(rotation=45)  # Rotate x-axis labels for better visibility\n",
    "  plt.show()\n",
    "\n",
    "label_graph_creator(normalized_train, class_names, title_='Label Distribution in Train Dataset')\n",
    "label_graph_creator(normalized_test, class_names, title_='Label Distribution in Test Dataset')\n"
   ]
  },
  {
   "cell_type": "markdown",
   "metadata": {
    "id": "JUhZaeL8Y2IG"
   },
   "source": [
    "As presented above charts, both training and test datasets are equally distributed on the classes. Hence, we do not have to worry about any biases in the data.\n"
   ]
  },
  {
   "cell_type": "markdown",
   "metadata": {
    "id": "kw-2qphORmQp"
   },
   "source": [
    "### 2.7. Preparing Features and Labels"
   ]
  },
  {
   "cell_type": "code",
   "execution_count": 13,
   "metadata": {
    "executionInfo": {
     "elapsed": 23764,
     "status": "ok",
     "timestamp": 1708938043759,
     "user": {
      "displayName": "Tolga TOSUN",
      "userId": "02019990685565649191"
     },
     "user_tz": -60
    },
    "id": "DE_qdEunRtdx"
   },
   "outputs": [],
   "source": [
    "# Extract images and labels\n",
    "X_train, y_train = [], []\n",
    "for image, label in normalized_train:\n",
    "    X_train.append(image.numpy())\n",
    "    y_train.append(label.numpy())\n",
    "\n",
    "X_test, y_test = [], []\n",
    "for image, label in normalized_test:\n",
    "    X_test.append(image.numpy())\n",
    "    y_test.append(label.numpy())\n",
    "\n",
    "# Convert lists to numpy arrays\n",
    "X_train, y_train = np.array(X_train), np.array(y_train)\n",
    "X_test, y_test = np.array(X_test), np.array(y_test)"
   ]
  },
  {
   "cell_type": "code",
   "execution_count": 14,
   "metadata": {
    "executionInfo": {
     "elapsed": 36,
     "status": "ok",
     "timestamp": 1708938043759,
     "user": {
      "displayName": "Tolga TOSUN",
      "userId": "02019990685565649191"
     },
     "user_tz": -60
    },
    "id": "9eVI02vPWCRN"
   },
   "outputs": [],
   "source": [
    "# one hot encode outputs\n",
    "y_train = to_categorical(y_train)\n",
    "y_test = to_categorical(y_test)"
   ]
  },
  {
   "cell_type": "code",
   "execution_count": 15,
   "metadata": {
    "colab": {
     "base_uri": "https://localhost:8080/"
    },
    "executionInfo": {
     "elapsed": 34,
     "status": "ok",
     "timestamp": 1708938043759,
     "user": {
      "displayName": "Tolga TOSUN",
      "userId": "02019990685565649191"
     },
     "user_tz": -60
    },
    "id": "Ba7kxfemEhwc",
    "outputId": "b10f4b7a-77af-45cc-e65c-662881d7f03e"
   },
   "outputs": [
    {
     "name": "stdout",
     "output_type": "stream",
     "text": [
      " Shape of X_train  (60000, 28, 28, 1)\n",
      " Shape of y_train  (60000, 10)\n",
      " Shape of X_test  (10000, 28, 28, 1)\n",
      " Shape of y_test  (10000, 10)\n"
     ]
    }
   ],
   "source": [
    "# Check the shape of datasets\n",
    "print(\" Shape of X_train \" , str(X_train.shape))\n",
    "print(\" Shape of y_train \" , str(y_train.shape))\n",
    "print(\" Shape of X_test \" , str(X_test.shape))\n",
    "print(\" Shape of y_test \" , str(y_test.shape))"
   ]
  },
  {
   "cell_type": "markdown",
   "metadata": {
    "id": "p7DtaImOVh55"
   },
   "source": [
    "## 3. MODEL DEVELOPMENT AND EVALUATION"
   ]
  },
  {
   "cell_type": "markdown",
   "metadata": {
    "id": "elPdDLF6a6au"
   },
   "source": [
    "### 3.1. Base Model"
   ]
  },
  {
   "cell_type": "markdown",
   "metadata": {
    "id": "H94v86babBcw"
   },
   "source": [
    "In this section, we will be developing, training and evaluating a model with a two hidden layer fully connected neural network by using Stochastic Gradient Descent (SGD) optimizer, the Sigmoid Activation function, and the cross-entropy error function."
   ]
  },
  {
   "cell_type": "code",
   "execution_count": 16,
   "metadata": {
    "executionInfo": {
     "elapsed": 30,
     "status": "ok",
     "timestamp": 1708938043760,
     "user": {
      "displayName": "Tolga TOSUN",
      "userId": "02019990685565649191"
     },
     "user_tz": -60
    },
    "id": "Da2bhSr8WZyM"
   },
   "outputs": [],
   "source": [
    "# Create the model\n",
    "model_1 = Sequential()"
   ]
  },
  {
   "cell_type": "code",
   "execution_count": 17,
   "metadata": {
    "executionInfo": {
     "elapsed": 30,
     "status": "ok",
     "timestamp": 1708938043760,
     "user": {
      "displayName": "Tolga TOSUN",
      "userId": "02019990685565649191"
     },
     "user_tz": -60
    },
    "id": "oDXUY_jCWdXg"
   },
   "outputs": [],
   "source": [
    "# Build the neural network model\n",
    "model_1.add(Flatten(input_shape=(28, 28, 1)))\n",
    "model_1.add(Dense(128, activation='sigmoid'))\n",
    "model_1.add(Dense(64, activation='sigmoid'))\n",
    "model_1.add(Dense(10, activation='softmax'))"
   ]
  },
  {
   "cell_type": "code",
   "execution_count": 18,
   "metadata": {
    "executionInfo": {
     "elapsed": 29,
     "status": "ok",
     "timestamp": 1708938043760,
     "user": {
      "displayName": "Tolga TOSUN",
      "userId": "02019990685565649191"
     },
     "user_tz": -60
    },
    "id": "bcyTooYiZhi3"
   },
   "outputs": [],
   "source": [
    "# Compile the model\n",
    "model_1.compile(optimizer=SGD(), loss='categorical_crossentropy', metrics=['accuracy'])"
   ]
  },
  {
   "cell_type": "code",
   "execution_count": 19,
   "metadata": {
    "colab": {
     "base_uri": "https://localhost:8080/"
    },
    "executionInfo": {
     "elapsed": 11224,
     "status": "ok",
     "timestamp": 1708938054955,
     "user": {
      "displayName": "Tolga TOSUN",
      "userId": "02019990685565649191"
     },
     "user_tz": -60
    },
    "id": "62iyKzhsZttw",
    "outputId": "361d2d1d-c266-4197-d8c2-ed8862a94dda"
   },
   "outputs": [
    {
     "name": "stdout",
     "output_type": "stream",
     "text": [
      "Epoch 1/10\n",
      "60/60 [==============================] - 2s 18ms/step - loss: 2.3273 - accuracy: 0.0957 - val_loss: 2.3002 - val_accuracy: 0.0792\n",
      "Epoch 2/10\n",
      "60/60 [==============================] - 1s 14ms/step - loss: 2.2905 - accuracy: 0.1263 - val_loss: 2.2830 - val_accuracy: 0.1833\n",
      "Epoch 3/10\n",
      "60/60 [==============================] - 1s 14ms/step - loss: 2.2767 - accuracy: 0.2296 - val_loss: 2.2708 - val_accuracy: 0.2505\n",
      "Epoch 4/10\n",
      "60/60 [==============================] - 1s 14ms/step - loss: 2.2645 - accuracy: 0.2916 - val_loss: 2.2588 - val_accuracy: 0.3433\n",
      "Epoch 5/10\n",
      "60/60 [==============================] - 1s 14ms/step - loss: 2.2523 - accuracy: 0.3783 - val_loss: 2.2464 - val_accuracy: 0.3696\n",
      "Epoch 6/10\n",
      "60/60 [==============================] - 1s 22ms/step - loss: 2.2397 - accuracy: 0.3958 - val_loss: 2.2337 - val_accuracy: 0.4072\n",
      "Epoch 7/10\n",
      "60/60 [==============================] - 1s 23ms/step - loss: 2.2266 - accuracy: 0.4123 - val_loss: 2.2203 - val_accuracy: 0.4517\n",
      "Epoch 8/10\n",
      "60/60 [==============================] - 1s 14ms/step - loss: 2.2129 - accuracy: 0.4615 - val_loss: 2.2063 - val_accuracy: 0.4484\n",
      "Epoch 9/10\n",
      "60/60 [==============================] - 1s 14ms/step - loss: 2.1984 - accuracy: 0.4609 - val_loss: 2.1915 - val_accuracy: 0.4832\n",
      "Epoch 10/10\n",
      "60/60 [==============================] - 1s 14ms/step - loss: 2.1831 - accuracy: 0.4873 - val_loss: 2.1758 - val_accuracy: 0.4804\n"
     ]
    }
   ],
   "source": [
    "batch_size_1 = 1000\n",
    "epoch_1 = 10\n",
    "\n",
    "# Train the model\n",
    "history_1 = model_1.fit(X_train, y_train, epochs=epoch_1, batch_size=batch_size_1, validation_data=(X_test, y_test))"
   ]
  },
  {
   "cell_type": "code",
   "execution_count": 20,
   "metadata": {
    "colab": {
     "base_uri": "https://localhost:8080/"
    },
    "executionInfo": {
     "elapsed": 837,
     "status": "ok",
     "timestamp": 1708938055745,
     "user": {
      "displayName": "Tolga TOSUN",
      "userId": "02019990685565649191"
     },
     "user_tz": -60
    },
    "id": "Kh_6X0iGZizp",
    "outputId": "9eccea97-4230-4ea8-e9fe-5d3fe79b6d69"
   },
   "outputs": [
    {
     "name": "stdout",
     "output_type": "stream",
     "text": [
      "313/313 [==============================] - 1s 2ms/step - loss: 2.1758 - accuracy: 0.4804\n",
      "Test accuracy: 48.0%\n"
     ]
    }
   ],
   "source": [
    "# Evaluate the model\n",
    "test_loss_1, test_acc_1 = model_1.evaluate(X_test, y_test)\n",
    "print(\"Test accuracy:\", \"{:.1%}\".format(test_acc_1))"
   ]
  },
  {
   "cell_type": "markdown",
   "metadata": {
    "id": "2wRBgNUhnKCH"
   },
   "source": [
    "The accuracy of the model on the test data is 48.7%, which is not very satisfying. Hence, we will try to improve the accuracy in the upcoming sections."
   ]
  },
  {
   "cell_type": "markdown",
   "metadata": {
    "id": "54vKJU1sbcAg"
   },
   "source": [
    "### 3.2. The Second Model with ReLU"
   ]
  },
  {
   "cell_type": "markdown",
   "metadata": {
    "id": "hclIHHh6crSb"
   },
   "source": [
    "In this section, we will be changing the Sigmoid activation function with relu. And again train the model with the new activation function and evaluate the results, comparing with the base model."
   ]
  },
  {
   "cell_type": "code",
   "execution_count": 21,
   "metadata": {
    "executionInfo": {
     "elapsed": 10,
     "status": "ok",
     "timestamp": 1708938055746,
     "user": {
      "displayName": "Tolga TOSUN",
      "userId": "02019990685565649191"
     },
     "user_tz": -60
    },
    "id": "ixPQe9MFbyZP"
   },
   "outputs": [],
   "source": [
    "# Create the model\n",
    "model_2 = Sequential()"
   ]
  },
  {
   "cell_type": "code",
   "execution_count": 22,
   "metadata": {
    "executionInfo": {
     "elapsed": 8,
     "status": "ok",
     "timestamp": 1708938055746,
     "user": {
      "displayName": "Tolga TOSUN",
      "userId": "02019990685565649191"
     },
     "user_tz": -60
    },
    "id": "fJBbkJfib1_Y"
   },
   "outputs": [],
   "source": [
    "# Build the neural network model\n",
    "model_2.add(Flatten(input_shape=(28, 28, 1)))\n",
    "model_2.add(Dense(128, activation='relu'))\n",
    "model_2.add(Dense(64, activation='relu'))\n",
    "model_2.add(Dense(10, activation='softmax'))"
   ]
  },
  {
   "cell_type": "code",
   "execution_count": 23,
   "metadata": {
    "executionInfo": {
     "elapsed": 8,
     "status": "ok",
     "timestamp": 1708938055747,
     "user": {
      "displayName": "Tolga TOSUN",
      "userId": "02019990685565649191"
     },
     "user_tz": -60
    },
    "id": "1CT0rT3Sb3jV"
   },
   "outputs": [],
   "source": [
    "# Compile the model\n",
    "model_2.compile(optimizer=SGD(), loss='categorical_crossentropy', metrics=['accuracy'])"
   ]
  },
  {
   "cell_type": "code",
   "execution_count": 24,
   "metadata": {
    "colab": {
     "base_uri": "https://localhost:8080/"
    },
    "executionInfo": {
     "elapsed": 10069,
     "status": "ok",
     "timestamp": 1708938065809,
     "user": {
      "displayName": "Tolga TOSUN",
      "userId": "02019990685565649191"
     },
     "user_tz": -60
    },
    "id": "YYpuqVcgcNnv",
    "outputId": "ce8cce28-4b45-413c-86af-1972a5383c30"
   },
   "outputs": [
    {
     "name": "stdout",
     "output_type": "stream",
     "text": [
      "Epoch 1/10\n",
      "60/60 [==============================] - 1s 17ms/step - loss: 2.0044 - accuracy: 0.3413 - val_loss: 1.7091 - val_accuracy: 0.5558\n",
      "Epoch 2/10\n",
      "60/60 [==============================] - 1s 14ms/step - loss: 1.4848 - accuracy: 0.6198 - val_loss: 1.2988 - val_accuracy: 0.6415\n",
      "Epoch 3/10\n",
      "60/60 [==============================] - 1s 14ms/step - loss: 1.1629 - accuracy: 0.6669 - val_loss: 1.0681 - val_accuracy: 0.6716\n",
      "Epoch 4/10\n",
      "60/60 [==============================] - 1s 13ms/step - loss: 0.9884 - accuracy: 0.7002 - val_loss: 0.9441 - val_accuracy: 0.6990\n",
      "Epoch 5/10\n",
      "60/60 [==============================] - 1s 13ms/step - loss: 0.8879 - accuracy: 0.7235 - val_loss: 0.8655 - val_accuracy: 0.7199\n",
      "Epoch 6/10\n",
      "60/60 [==============================] - 1s 14ms/step - loss: 0.8217 - accuracy: 0.7397 - val_loss: 0.8118 - val_accuracy: 0.7323\n",
      "Epoch 7/10\n",
      "60/60 [==============================] - 1s 19ms/step - loss: 0.7742 - accuracy: 0.7515 - val_loss: 0.7720 - val_accuracy: 0.7434\n",
      "Epoch 8/10\n",
      "60/60 [==============================] - 1s 22ms/step - loss: 0.7376 - accuracy: 0.7612 - val_loss: 0.7410 - val_accuracy: 0.7548\n",
      "Epoch 9/10\n",
      "60/60 [==============================] - 1s 17ms/step - loss: 0.7086 - accuracy: 0.7685 - val_loss: 0.7148 - val_accuracy: 0.7614\n",
      "Epoch 10/10\n",
      "60/60 [==============================] - 1s 14ms/step - loss: 0.6844 - accuracy: 0.7752 - val_loss: 0.6938 - val_accuracy: 0.7662\n"
     ]
    }
   ],
   "source": [
    "batch_size_2 = 1000\n",
    "epoch_2 = 10\n",
    "\n",
    "# Train the model\n",
    "history_2 = model_2.fit(X_train, y_train, epochs=epoch_2, batch_size=batch_size_2, validation_data=(X_test, y_test))"
   ]
  },
  {
   "cell_type": "code",
   "execution_count": 25,
   "metadata": {
    "colab": {
     "base_uri": "https://localhost:8080/"
    },
    "executionInfo": {
     "elapsed": 793,
     "status": "ok",
     "timestamp": 1708938066547,
     "user": {
      "displayName": "Tolga TOSUN",
      "userId": "02019990685565649191"
     },
     "user_tz": -60
    },
    "id": "DH_BnXaNcQMX",
    "outputId": "aba8eb6c-91ef-4f8e-ff90-b341923623d9"
   },
   "outputs": [
    {
     "name": "stdout",
     "output_type": "stream",
     "text": [
      "313/313 [==============================] - 1s 2ms/step - loss: 0.6938 - accuracy: 0.7662\n",
      "Test accuracy: 76.6%\n"
     ]
    }
   ],
   "source": [
    "# Evaluate the model\n",
    "test_loss_2, test_acc_2 = model_2.evaluate(X_test, y_test)\n",
    "print(\"Test accuracy:\", \"{:.1%}\".format(test_acc_2))"
   ]
  },
  {
   "cell_type": "markdown",
   "metadata": {
    "id": "pbi0_fYKdAYJ"
   },
   "source": [
    "As observed above, the accuracy of evaluation on the test data has significantly increased from 48.7% to 75.2%. There are several reasons of this improvement as explained below.\n",
    "\n",
    "**Avoiding vanishing gradients:** Sigmoid activation functions can have a problem where the gradients become very small during learning in deep neural networks. This can make learning difficult. ReLU doesn't have this problem as much because it only stops at 0.\n",
    "\n",
    "**Sparse activation:** ReLU makes many neurons output zero. This can help the model learn better by reducing unnecessary information and making the model more diverse."
   ]
  },
  {
   "cell_type": "markdown",
   "metadata": {
    "id": "iOZXmUqnd4Z2"
   },
   "source": [
    "### 3.3. The Third Model with Dropout Regularization"
   ]
  },
  {
   "cell_type": "markdown",
   "metadata": {
    "id": "rQd14YL6eLRa"
   },
   "source": [
    "In this section, we will be implementing a dropout regularization into the model. Then, we will train and evaluate the model."
   ]
  },
  {
   "cell_type": "code",
   "execution_count": 26,
   "metadata": {
    "executionInfo": {
     "elapsed": 10,
     "status": "ok",
     "timestamp": 1708938066547,
     "user": {
      "displayName": "Tolga TOSUN",
      "userId": "02019990685565649191"
     },
     "user_tz": -60
    },
    "id": "c0h-v7Apc_yF"
   },
   "outputs": [],
   "source": [
    "# Create the model\n",
    "model_3 = Sequential()"
   ]
  },
  {
   "cell_type": "code",
   "execution_count": 27,
   "metadata": {
    "executionInfo": {
     "elapsed": 8,
     "status": "ok",
     "timestamp": 1708938066547,
     "user": {
      "displayName": "Tolga TOSUN",
      "userId": "02019990685565649191"
     },
     "user_tz": -60
    },
    "id": "VrWUM0jZdA_v"
   },
   "outputs": [],
   "source": [
    "# Build the neural network model\n",
    "model_3.add(Flatten(input_shape=(28, 28, 1)))\n",
    "model_3.add(Dense(128, activation='relu'))\n",
    "model_3.add(Dropout(0.2))\n",
    "model_3.add(Dense(64, activation='relu'))\n",
    "model_3.add(Dropout(0.2))\n",
    "model_3.add(Dense(10, activation='softmax'))"
   ]
  },
  {
   "cell_type": "code",
   "execution_count": 28,
   "metadata": {
    "executionInfo": {
     "elapsed": 8,
     "status": "ok",
     "timestamp": 1708938066548,
     "user": {
      "displayName": "Tolga TOSUN",
      "userId": "02019990685565649191"
     },
     "user_tz": -60
    },
    "id": "7VCUQwsNdBCe"
   },
   "outputs": [],
   "source": [
    "# Compile the model\n",
    "model_3.compile(optimizer=SGD(), loss='categorical_crossentropy', metrics=['accuracy'])"
   ]
  },
  {
   "cell_type": "code",
   "execution_count": 29,
   "metadata": {
    "colab": {
     "base_uri": "https://localhost:8080/"
    },
    "executionInfo": {
     "elapsed": 13466,
     "status": "ok",
     "timestamp": 1708938080006,
     "user": {
      "displayName": "Tolga TOSUN",
      "userId": "02019990685565649191"
     },
     "user_tz": -60
    },
    "id": "JCpk14aedBE0",
    "outputId": "eacc651a-c398-4fc0-fc50-f31cda88cd55"
   },
   "outputs": [
    {
     "name": "stdout",
     "output_type": "stream",
     "text": [
      "Epoch 1/10\n",
      "60/60 [==============================] - 2s 18ms/step - loss: 2.0488 - accuracy: 0.2937 - val_loss: 1.7224 - val_accuracy: 0.5638\n",
      "Epoch 2/10\n",
      "60/60 [==============================] - 1s 15ms/step - loss: 1.6268 - accuracy: 0.4898 - val_loss: 1.3549 - val_accuracy: 0.6272\n",
      "Epoch 3/10\n",
      "60/60 [==============================] - 1s 15ms/step - loss: 1.3690 - accuracy: 0.5544 - val_loss: 1.1410 - val_accuracy: 0.6463\n",
      "Epoch 4/10\n",
      "60/60 [==============================] - 1s 15ms/step - loss: 1.2121 - accuracy: 0.5888 - val_loss: 1.0172 - val_accuracy: 0.6614\n",
      "Epoch 5/10\n",
      "60/60 [==============================] - 1s 15ms/step - loss: 1.1120 - accuracy: 0.6125 - val_loss: 0.9390 - val_accuracy: 0.6766\n",
      "Epoch 6/10\n",
      "60/60 [==============================] - 1s 15ms/step - loss: 1.0475 - accuracy: 0.6291 - val_loss: 0.8874 - val_accuracy: 0.6892\n",
      "Epoch 7/10\n",
      "60/60 [==============================] - 1s 15ms/step - loss: 0.9946 - accuracy: 0.6461 - val_loss: 0.8482 - val_accuracy: 0.6998\n",
      "Epoch 8/10\n",
      "60/60 [==============================] - 1s 20ms/step - loss: 0.9513 - accuracy: 0.6587 - val_loss: 0.8174 - val_accuracy: 0.7087\n",
      "Epoch 9/10\n",
      "60/60 [==============================] - 2s 40ms/step - loss: 0.9232 - accuracy: 0.6699 - val_loss: 0.7931 - val_accuracy: 0.7154\n",
      "Epoch 10/10\n",
      "60/60 [==============================] - 1s 15ms/step - loss: 0.8980 - accuracy: 0.6792 - val_loss: 0.7726 - val_accuracy: 0.7237\n"
     ]
    }
   ],
   "source": [
    "batch_size_3 = 1000\n",
    "epoch_3 = 10\n",
    "\n",
    "# Train the model\n",
    "history_3 = model_3.fit(X_train, y_train, epochs=epoch_3, batch_size=batch_size_3, validation_data=(X_test, y_test))"
   ]
  },
  {
   "cell_type": "code",
   "execution_count": 30,
   "metadata": {
    "colab": {
     "base_uri": "https://localhost:8080/"
    },
    "executionInfo": {
     "elapsed": 34,
     "status": "ok",
     "timestamp": 1708938080007,
     "user": {
      "displayName": "Tolga TOSUN",
      "userId": "02019990685565649191"
     },
     "user_tz": -60
    },
    "id": "TG5fK8TAefHW",
    "outputId": "20acca75-6aa1-4858-e973-125cd52003ab"
   },
   "outputs": [
    {
     "name": "stdout",
     "output_type": "stream",
     "text": [
      "313/313 [==============================] - 1s 2ms/step - loss: 0.7726 - accuracy: 0.7237\n",
      "Test accuracy: 72.4%\n"
     ]
    }
   ],
   "source": [
    "# Evaluate the model\n",
    "test_loss_3, test_acc_3 = model_3.evaluate(X_test, y_test)\n",
    "print(\"Test accuracy:\", \"{:.1%}\".format(test_acc_3))"
   ]
  },
  {
   "cell_type": "markdown",
   "metadata": {
    "id": "K-GjVz-hfT34"
   },
   "source": [
    "Even if we did not keep dropout ratio very high, the accuracy has decreased from 75.2% to 73.8%. Dropout introduces randomness into the training process, which means that the performance of the model may vary across different runs. It's possible that the decrease in accuracy is due to random fluctuations rather than a fundamental issue with dropout regularization. Additionally, dropout regularization can slow down the convergence of the training process because it introduces randomness into the network. If the model is not trained for enough epochs, the model may not have had sufficient time to learn meaningful patterns from the data.|As a result, we may overcome this issue by increasing the value of epoch hyperparameter."
   ]
  },
  {
   "cell_type": "code",
   "execution_count": 47,
   "metadata": {
    "colab": {
     "base_uri": "https://localhost:8080/",
     "height": 472
    },
    "executionInfo": {
     "elapsed": 519,
     "status": "ok",
     "timestamp": 1708940069470,
     "user": {
      "displayName": "Tolga TOSUN",
      "userId": "02019990685565649191"
     },
     "user_tz": -60
    },
    "id": "QUGxgaZ7tCDM",
    "outputId": "749d2a72-dc8b-4236-dac8-e866be2fb63b"
   },
   "outputs": [
    {
     "data": {
      "image/png": "[encoded data removed]",
      "text/plain": [
       "<Figure size 640x480 with 1 Axes>"
      ]
     },
     "metadata": {},
     "output_type": "display_data"
    }
   ],
   "source": [
    "# Plot training & validation accuracy values\n",
    "plt.plot(history_3.history['accuracy'])\n",
    "plt.plot(history_3.history['val_accuracy'])\n",
    "plt.title('Model accuracy')\n",
    "plt.ylabel('Accuracy')\n",
    "plt.xlabel('Epoch')\n",
    "plt.legend(['Train', 'Validation'], loc='upper left')\n",
    "plt.show()"
   ]
  },
  {
   "cell_type": "markdown",
   "metadata": {
    "id": "GI3oIGjlhstE"
   },
   "source": [
    "### 3.4. The Fourth Model with Dropout Regularization and Increased Epoch Value"
   ]
  },
  {
   "cell_type": "markdown",
   "metadata": {
    "id": "HrtKb5Tmh15z"
   },
   "source": [
    "In the previous section, we have introduced Dropout regularization into the model. However, it decreased the accuracy. The reason may be the insufficient training time. Hence, we will increase the value of epoch hyperparameter and train and evaluate the model."
   ]
  },
  {
   "cell_type": "code",
   "execution_count": 31,
   "metadata": {
    "executionInfo": {
     "elapsed": 26,
     "status": "ok",
     "timestamp": 1708938080007,
     "user": {
      "displayName": "Tolga TOSUN",
      "userId": "02019990685565649191"
     },
     "user_tz": -60
    },
    "id": "7MJrQHenh2oe"
   },
   "outputs": [],
   "source": [
    "# Create the model\n",
    "model_4 = Sequential()"
   ]
  },
  {
   "cell_type": "code",
   "execution_count": 32,
   "metadata": {
    "executionInfo": {
     "elapsed": 26,
     "status": "ok",
     "timestamp": 1708938080007,
     "user": {
      "displayName": "Tolga TOSUN",
      "userId": "02019990685565649191"
     },
     "user_tz": -60
    },
    "id": "sHg0HgeFefeF"
   },
   "outputs": [],
   "source": [
    "# Build the neural network model\n",
    "model_4.add(Flatten(input_shape=(28, 28, 1)))\n",
    "model_4.add(Dense(128, activation='relu'))\n",
    "model_4.add(Dropout(0.2))\n",
    "model_4.add(Dense(64, activation='relu'))\n",
    "model_4.add(Dropout(0.2))\n",
    "model_4.add(Dense(10, activation='softmax'))"
   ]
  },
  {
   "cell_type": "code",
   "execution_count": 33,
   "metadata": {
    "executionInfo": {
     "elapsed": 25,
     "status": "ok",
     "timestamp": 1708938080007,
     "user": {
      "displayName": "Tolga TOSUN",
      "userId": "02019990685565649191"
     },
     "user_tz": -60
    },
    "id": "tJfZtpe7efgx"
   },
   "outputs": [],
   "source": [
    "# Compile the model\n",
    "model_4.compile(optimizer=SGD(), loss='categorical_crossentropy', metrics=['accuracy'])"
   ]
  },
  {
   "cell_type": "code",
   "execution_count": 34,
   "metadata": {
    "colab": {
     "base_uri": "https://localhost:8080/"
    },
    "executionInfo": {
     "elapsed": 51868,
     "status": "ok",
     "timestamp": 1708938131850,
     "user": {
      "displayName": "Tolga TOSUN",
      "userId": "02019990685565649191"
     },
     "user_tz": -60
    },
    "id": "tOqvpWQYefjh",
    "outputId": "3292efa2-4cdc-4e12-cb16-b626f787e0a7"
   },
   "outputs": [
    {
     "name": "stdout",
     "output_type": "stream",
     "text": [
      "Epoch 1/50\n",
      "60/60 [==============================] - 2s 18ms/step - loss: 2.0685 - accuracy: 0.2906 - val_loss: 1.7110 - val_accuracy: 0.5433\n",
      "Epoch 2/50\n",
      "60/60 [==============================] - 1s 16ms/step - loss: 1.6154 - accuracy: 0.4876 - val_loss: 1.3423 - val_accuracy: 0.6456\n",
      "Epoch 3/50\n",
      "60/60 [==============================] - 1s 16ms/step - loss: 1.3682 - accuracy: 0.5529 - val_loss: 1.1417 - val_accuracy: 0.6675\n",
      "Epoch 4/50\n",
      "60/60 [==============================] - 1s 15ms/step - loss: 1.2242 - accuracy: 0.5899 - val_loss: 1.0244 - val_accuracy: 0.6799\n",
      "Epoch 5/50\n",
      "60/60 [==============================] - 1s 15ms/step - loss: 1.1230 - accuracy: 0.6161 - val_loss: 0.9475 - val_accuracy: 0.6907\n",
      "Epoch 6/50\n",
      "60/60 [==============================] - 1s 15ms/step - loss: 1.0561 - accuracy: 0.6354 - val_loss: 0.8931 - val_accuracy: 0.7025\n",
      "Epoch 7/50\n",
      "60/60 [==============================] - 1s 15ms/step - loss: 1.0055 - accuracy: 0.6510 - val_loss: 0.8521 - val_accuracy: 0.7081\n",
      "Epoch 8/50\n",
      "60/60 [==============================] - 1s 22ms/step - loss: 0.9582 - accuracy: 0.6656 - val_loss: 0.8185 - val_accuracy: 0.7182\n",
      "Epoch 9/50\n",
      "60/60 [==============================] - 1s 24ms/step - loss: 0.9292 - accuracy: 0.6723 - val_loss: 0.7933 - val_accuracy: 0.7240\n",
      "Epoch 10/50\n",
      "60/60 [==============================] - 1s 17ms/step - loss: 0.9022 - accuracy: 0.6836 - val_loss: 0.7710 - val_accuracy: 0.7281\n",
      "Epoch 11/50\n",
      "60/60 [==============================] - 1s 15ms/step - loss: 0.8736 - accuracy: 0.6945 - val_loss: 0.7520 - val_accuracy: 0.7323\n",
      "Epoch 12/50\n",
      "60/60 [==============================] - 1s 15ms/step - loss: 0.8518 - accuracy: 0.6995 - val_loss: 0.7338 - val_accuracy: 0.7398\n",
      "Epoch 13/50\n",
      "60/60 [==============================] - 1s 15ms/step - loss: 0.8300 - accuracy: 0.7074 - val_loss: 0.7188 - val_accuracy: 0.7459\n",
      "Epoch 14/50\n",
      "60/60 [==============================] - 1s 15ms/step - loss: 0.8140 - accuracy: 0.7121 - val_loss: 0.7050 - val_accuracy: 0.7497\n",
      "Epoch 15/50\n",
      "60/60 [==============================] - 1s 15ms/step - loss: 0.8005 - accuracy: 0.7159 - val_loss: 0.6925 - val_accuracy: 0.7556\n",
      "Epoch 16/50\n",
      "60/60 [==============================] - 1s 15ms/step - loss: 0.7866 - accuracy: 0.7211 - val_loss: 0.6821 - val_accuracy: 0.7585\n",
      "Epoch 17/50\n",
      "60/60 [==============================] - 1s 15ms/step - loss: 0.7716 - accuracy: 0.7290 - val_loss: 0.6711 - val_accuracy: 0.7622\n",
      "Epoch 18/50\n",
      "60/60 [==============================] - 1s 15ms/step - loss: 0.7571 - accuracy: 0.7335 - val_loss: 0.6620 - val_accuracy: 0.7644\n",
      "Epoch 19/50\n",
      "60/60 [==============================] - 1s 15ms/step - loss: 0.7452 - accuracy: 0.7385 - val_loss: 0.6526 - val_accuracy: 0.7684\n",
      "Epoch 20/50\n",
      "60/60 [==============================] - 1s 15ms/step - loss: 0.7358 - accuracy: 0.7411 - val_loss: 0.6437 - val_accuracy: 0.7716\n",
      "Epoch 21/50\n",
      "60/60 [==============================] - 1s 25ms/step - loss: 0.7246 - accuracy: 0.7462 - val_loss: 0.6359 - val_accuracy: 0.7754\n",
      "Epoch 22/50\n",
      "60/60 [==============================] - 2s 33ms/step - loss: 0.7173 - accuracy: 0.7492 - val_loss: 0.6292 - val_accuracy: 0.7789\n",
      "Epoch 23/50\n",
      "60/60 [==============================] - 1s 24ms/step - loss: 0.7094 - accuracy: 0.7513 - val_loss: 0.6214 - val_accuracy: 0.7814\n",
      "Epoch 24/50\n",
      "60/60 [==============================] - 1s 15ms/step - loss: 0.7000 - accuracy: 0.7562 - val_loss: 0.6149 - val_accuracy: 0.7853\n",
      "Epoch 25/50\n",
      "60/60 [==============================] - 1s 15ms/step - loss: 0.6926 - accuracy: 0.7583 - val_loss: 0.6085 - val_accuracy: 0.7865\n",
      "Epoch 26/50\n",
      "60/60 [==============================] - 1s 15ms/step - loss: 0.6860 - accuracy: 0.7630 - val_loss: 0.6033 - val_accuracy: 0.7898\n",
      "Epoch 27/50\n",
      "60/60 [==============================] - 1s 15ms/step - loss: 0.6763 - accuracy: 0.7636 - val_loss: 0.5971 - val_accuracy: 0.7930\n",
      "Epoch 28/50\n",
      "60/60 [==============================] - 1s 15ms/step - loss: 0.6696 - accuracy: 0.7654 - val_loss: 0.5918 - val_accuracy: 0.7949\n",
      "Epoch 29/50\n",
      "60/60 [==============================] - 1s 16ms/step - loss: 0.6642 - accuracy: 0.7699 - val_loss: 0.5873 - val_accuracy: 0.7953\n",
      "Epoch 30/50\n",
      "60/60 [==============================] - 1s 15ms/step - loss: 0.6550 - accuracy: 0.7722 - val_loss: 0.5818 - val_accuracy: 0.7972\n",
      "Epoch 31/50\n",
      "60/60 [==============================] - 1s 15ms/step - loss: 0.6518 - accuracy: 0.7733 - val_loss: 0.5775 - val_accuracy: 0.7978\n",
      "Epoch 32/50\n",
      "60/60 [==============================] - 1s 19ms/step - loss: 0.6442 - accuracy: 0.7763 - val_loss: 0.5723 - val_accuracy: 0.7990\n",
      "Epoch 33/50\n",
      "60/60 [==============================] - 1s 25ms/step - loss: 0.6395 - accuracy: 0.7767 - val_loss: 0.5683 - val_accuracy: 0.8005\n",
      "Epoch 34/50\n",
      "60/60 [==============================] - 1s 19ms/step - loss: 0.6331 - accuracy: 0.7818 - val_loss: 0.5641 - val_accuracy: 0.8016\n",
      "Epoch 35/50\n",
      "60/60 [==============================] - 1s 15ms/step - loss: 0.6290 - accuracy: 0.7832 - val_loss: 0.5603 - val_accuracy: 0.8030\n",
      "Epoch 36/50\n",
      "60/60 [==============================] - 1s 15ms/step - loss: 0.6246 - accuracy: 0.7851 - val_loss: 0.5570 - val_accuracy: 0.8035\n",
      "Epoch 37/50\n",
      "60/60 [==============================] - 1s 15ms/step - loss: 0.6184 - accuracy: 0.7875 - val_loss: 0.5528 - val_accuracy: 0.8044\n",
      "Epoch 38/50\n",
      "60/60 [==============================] - 1s 15ms/step - loss: 0.6170 - accuracy: 0.7866 - val_loss: 0.5497 - val_accuracy: 0.8062\n",
      "Epoch 39/50\n",
      "60/60 [==============================] - 1s 15ms/step - loss: 0.6115 - accuracy: 0.7882 - val_loss: 0.5459 - val_accuracy: 0.8074\n",
      "Epoch 40/50\n",
      "60/60 [==============================] - 1s 15ms/step - loss: 0.6041 - accuracy: 0.7907 - val_loss: 0.5430 - val_accuracy: 0.8071\n",
      "Epoch 41/50\n",
      "60/60 [==============================] - 1s 15ms/step - loss: 0.6018 - accuracy: 0.7912 - val_loss: 0.5397 - val_accuracy: 0.8086\n",
      "Epoch 42/50\n",
      "60/60 [==============================] - 1s 15ms/step - loss: 0.5984 - accuracy: 0.7928 - val_loss: 0.5369 - val_accuracy: 0.8085\n",
      "Epoch 43/50\n",
      "60/60 [==============================] - 1s 15ms/step - loss: 0.5938 - accuracy: 0.7944 - val_loss: 0.5339 - val_accuracy: 0.8111\n",
      "Epoch 44/50\n",
      "60/60 [==============================] - 1s 15ms/step - loss: 0.5906 - accuracy: 0.7951 - val_loss: 0.5309 - val_accuracy: 0.8122\n",
      "Epoch 45/50\n",
      "60/60 [==============================] - 1s 22ms/step - loss: 0.5863 - accuracy: 0.7953 - val_loss: 0.5282 - val_accuracy: 0.8139\n",
      "Epoch 46/50\n",
      "60/60 [==============================] - 2s 25ms/step - loss: 0.5840 - accuracy: 0.7987 - val_loss: 0.5256 - val_accuracy: 0.8150\n",
      "Epoch 47/50\n",
      "60/60 [==============================] - 1s 15ms/step - loss: 0.5802 - accuracy: 0.7993 - val_loss: 0.5232 - val_accuracy: 0.8147\n",
      "Epoch 48/50\n",
      "60/60 [==============================] - 1s 16ms/step - loss: 0.5757 - accuracy: 0.8012 - val_loss: 0.5206 - val_accuracy: 0.8159\n",
      "Epoch 49/50\n",
      "60/60 [==============================] - 1s 15ms/step - loss: 0.5756 - accuracy: 0.8004 - val_loss: 0.5184 - val_accuracy: 0.8156\n",
      "Epoch 50/50\n",
      "60/60 [==============================] - 1s 15ms/step - loss: 0.5720 - accuracy: 0.8033 - val_loss: 0.5161 - val_accuracy: 0.8172\n"
     ]
    }
   ],
   "source": [
    "batch_size_4 = 1000\n",
    "epoch_4 = 50\n",
    "\n",
    "# Train the model\n",
    "history_4 = model_4.fit(X_train, y_train, epochs=epoch_4, batch_size=batch_size_4, validation_data=(X_test, y_test))"
   ]
  },
  {
   "cell_type": "code",
   "execution_count": 35,
   "metadata": {
    "colab": {
     "base_uri": "https://localhost:8080/"
    },
    "executionInfo": {
     "elapsed": 1176,
     "status": "ok",
     "timestamp": 1708938133014,
     "user": {
      "displayName": "Tolga TOSUN",
      "userId": "02019990685565649191"
     },
     "user_tz": -60
    },
    "id": "QU8ftLVkefmU",
    "outputId": "611f48e2-b494-4aa1-bf6f-9c88edbc5f95"
   },
   "outputs": [
    {
     "name": "stdout",
     "output_type": "stream",
     "text": [
      "313/313 [==============================] - 1s 2ms/step - loss: 0.5161 - accuracy: 0.8172\n",
      "Test accuracy: 81.7%\n"
     ]
    }
   ],
   "source": [
    "# Evaluate the model\n",
    "test_loss_4, test_acc_4 = model_4.evaluate(X_test, y_test)\n",
    "print(\"Test accuracy:\", \"{:.1%}\".format(test_acc_4))"
   ]
  },
  {
   "cell_type": "markdown",
   "metadata": {
    "id": "WjmM4KdrieEy"
   },
   "source": [
    "Indeed, as anticipated, increasing the number of epochs has notably enhanced the model's accuracy. This enhancement stems from the increased exposure to training data and the subsequent more frequent parameter updates. Consequently, this facilitates the model in discerning intricate patterns within the data, resulting in the convergence towards an improved solution. Consequently, this augmentation in epochs aids in leveraging the beneficial generalization capabilities inherent in dropout regularization.\n",
    "\n",
    "\n",
    "\n",
    "\n",
    "\n"
   ]
  },
  {
   "cell_type": "markdown",
   "metadata": {
    "id": "4n-Ul362q1Xf"
   },
   "source": [
    "### 3.5. The Fifth Model with GridSearch"
   ]
  },
  {
   "cell_type": "markdown",
   "metadata": {
    "id": "eh5obCDYrkeH"
   },
   "source": [
    "In this section, we will apply grid search method to find the bets hyperparameters"
   ]
  },
  {
   "cell_type": "code",
   "execution_count": 36,
   "metadata": {
    "executionInfo": {
     "elapsed": 19,
     "status": "ok",
     "timestamp": 1708938133014,
     "user": {
      "displayName": "Tolga TOSUN",
      "userId": "02019990685565649191"
     },
     "user_tz": -60
    },
    "id": "QoxNuPvf2xZu"
   },
   "outputs": [],
   "source": [
    "# Define the neural network model function\n",
    "def build_model(learning_rate=0.001, momentum=0.9, dropout_rate=0.2, epochs=50):\n",
    "\n",
    "  # Initiate the same model that we built for previous sections\n",
    "  model = Sequential()\n",
    "  model.add(Flatten(input_shape=(28, 28, 1)))\n",
    "  # First layer\n",
    "  model.add(Dense(128, activation='relu'))\n",
    "  model.add(Dropout(dropout_rate))\n",
    "  # Second layer\n",
    "  model.add(Dense(64, activation='relu'))\n",
    "  model.add(Dropout(dropout_rate))\n",
    "  # Final layer\n",
    "  model.add(Dense(10, activation='softmax'))\n",
    "\n",
    "  decay = learning_rate/epochs\n",
    "\n",
    "  optimizer = SGD(learning_rate=learning_rate, momentum=momentum, weight_decay=decay)\n",
    "\n",
    "  model.compile(optimizer=optimizer, loss='categorical_crossentropy', metrics=['accuracy'])\n",
    "  return model"
   ]
  },
  {
   "cell_type": "code",
   "execution_count": 37,
   "metadata": {
    "executionInfo": {
     "elapsed": 19,
     "status": "ok",
     "timestamp": 1708938133015,
     "user": {
      "displayName": "Tolga TOSUN",
      "userId": "02019990685565649191"
     },
     "user_tz": -60
    },
    "id": "gCMw2a4GrtJI"
   },
   "outputs": [],
   "source": [
    "# Define hyperparameters\n",
    "learning_rates = [0.001, 0.01, 0.1]\n",
    "momentums = [0.9, 0.95, 0.99]\n",
    "dropout_rates = [0.1, 0.2, 0.4]"
   ]
  },
  {
   "cell_type": "markdown",
   "metadata": {
    "id": "IrKJJ86CDLJq"
   },
   "source": [
    "**WARNING:** EXECUTING BELOW CELL MAY TAKE ABOUT **30 MINUTES**"
   ]
  },
  {
   "cell_type": "code",
   "execution_count": 38,
   "metadata": {
    "colab": {
     "base_uri": "https://localhost:8080/"
    },
    "executionInfo": {
     "elapsed": 1778597,
     "status": "ok",
     "timestamp": 1708939911594,
     "user": {
      "displayName": "Tolga TOSUN",
      "userId": "02019990685565649191"
     },
     "user_tz": -60
    },
    "id": "nPuQTg4ks77o",
    "outputId": "07140a00-5da9-4689-e12c-4ab7f94db2fb"
   },
   "outputs": [
    {
     "name": "stdout",
     "output_type": "stream",
     "text": [
      "Training model with learning_rate=0.001, momentum=0.9, dropout_rate=0.1\n",
      "313/313 [==============================] - 1s 2ms/step - loss: 0.5002 - accuracy: 0.8267\n",
      "Test accuracy: 0.82669997215271\n",
      "Training model with learning_rate=0.001, momentum=0.9, dropout_rate=0.2\n",
      "313/313 [==============================] - 1s 2ms/step - loss: 0.5177 - accuracy: 0.8176\n",
      "Test accuracy: 0.8176000118255615\n",
      "Training model with learning_rate=0.001, momentum=0.9, dropout_rate=0.4\n",
      "313/313 [==============================] - 1s 2ms/step - loss: 0.5549 - accuracy: 0.7997\n",
      "Test accuracy: 0.7997000217437744\n",
      "Training model with learning_rate=0.001, momentum=0.95, dropout_rate=0.1\n",
      "313/313 [==============================] - 1s 2ms/step - loss: 0.4456 - accuracy: 0.8417\n",
      "Test accuracy: 0.84170001745224\n",
      "Training model with learning_rate=0.001, momentum=0.95, dropout_rate=0.2\n",
      "313/313 [==============================] - 1s 3ms/step - loss: 0.4558 - accuracy: 0.8383\n",
      "Test accuracy: 0.8382999897003174\n",
      "Training model with learning_rate=0.001, momentum=0.95, dropout_rate=0.4\n",
      "313/313 [==============================] - 1s 3ms/step - loss: 0.4817 - accuracy: 0.8244\n",
      "Test accuracy: 0.824400007724762\n",
      "Training model with learning_rate=0.001, momentum=0.99, dropout_rate=0.1\n",
      "313/313 [==============================] - 1s 2ms/step - loss: 0.3601 - accuracy: 0.8724\n",
      "Test accuracy: 0.8723999857902527\n",
      "Training model with learning_rate=0.001, momentum=0.99, dropout_rate=0.2\n",
      "313/313 [==============================] - 1s 3ms/step - loss: 0.3735 - accuracy: 0.8651\n",
      "Test accuracy: 0.8651000261306763\n",
      "Training model with learning_rate=0.001, momentum=0.99, dropout_rate=0.4\n",
      "313/313 [==============================] - 1s 2ms/step - loss: 0.3954 - accuracy: 0.8568\n",
      "Test accuracy: 0.8568000197410583\n",
      "Training model with learning_rate=0.01, momentum=0.9, dropout_rate=0.1\n",
      "313/313 [==============================] - 1s 2ms/step - loss: 0.3549 - accuracy: 0.8726\n",
      "Test accuracy: 0.8726000189781189\n",
      "Training model with learning_rate=0.01, momentum=0.9, dropout_rate=0.2\n",
      "313/313 [==============================] - 1s 2ms/step - loss: 0.3578 - accuracy: 0.8726\n",
      "Test accuracy: 0.8726000189781189\n",
      "Training model with learning_rate=0.01, momentum=0.9, dropout_rate=0.4\n",
      "313/313 [==============================] - 1s 3ms/step - loss: 0.3781 - accuracy: 0.8638\n",
      "Test accuracy: 0.8637999892234802\n",
      "Training model with learning_rate=0.01, momentum=0.95, dropout_rate=0.1\n",
      "313/313 [==============================] - 1s 2ms/step - loss: 0.3297 - accuracy: 0.8825\n",
      "Test accuracy: 0.8824999928474426\n",
      "Training model with learning_rate=0.01, momentum=0.95, dropout_rate=0.2\n",
      "313/313 [==============================] - 1s 2ms/step - loss: 0.3319 - accuracy: 0.8802\n",
      "Test accuracy: 0.8802000284194946\n",
      "Training model with learning_rate=0.01, momentum=0.95, dropout_rate=0.4\n",
      "313/313 [==============================] - 1s 2ms/step - loss: 0.3587 - accuracy: 0.8697\n",
      "Test accuracy: 0.869700014591217\n",
      "Training model with learning_rate=0.01, momentum=0.99, dropout_rate=0.1\n",
      "313/313 [==============================] - 1s 2ms/step - loss: 0.3242 - accuracy: 0.8854\n",
      "Test accuracy: 0.8853999972343445\n",
      "Training model with learning_rate=0.01, momentum=0.99, dropout_rate=0.2\n",
      "313/313 [==============================] - 1s 2ms/step - loss: 0.3284 - accuracy: 0.8852\n",
      "Test accuracy: 0.885200023651123\n",
      "Training model with learning_rate=0.01, momentum=0.99, dropout_rate=0.4\n",
      "313/313 [==============================] - 1s 3ms/step - loss: 0.3589 - accuracy: 0.8703\n",
      "Test accuracy: 0.8702999949455261\n",
      "Training model with learning_rate=0.1, momentum=0.9, dropout_rate=0.1\n",
      "313/313 [==============================] - 1s 2ms/step - loss: 0.3154 - accuracy: 0.8892\n",
      "Test accuracy: 0.88919997215271\n",
      "Training model with learning_rate=0.1, momentum=0.9, dropout_rate=0.2\n",
      "313/313 [==============================] - 1s 2ms/step - loss: 0.3216 - accuracy: 0.8866\n",
      "Test accuracy: 0.8866000175476074\n",
      "Training model with learning_rate=0.1, momentum=0.9, dropout_rate=0.4\n",
      "313/313 [==============================] - 1s 3ms/step - loss: 0.3440 - accuracy: 0.8779\n",
      "Test accuracy: 0.8779000043869019\n",
      "Training model with learning_rate=0.1, momentum=0.95, dropout_rate=0.1\n",
      "313/313 [==============================] - 1s 3ms/step - loss: 0.3317 - accuracy: 0.8848\n",
      "Test accuracy: 0.8848000168800354\n",
      "Training model with learning_rate=0.1, momentum=0.95, dropout_rate=0.2\n",
      "313/313 [==============================] - 1s 3ms/step - loss: 0.3329 - accuracy: 0.8796\n",
      "Test accuracy: 0.8795999884605408\n",
      "Training model with learning_rate=0.1, momentum=0.95, dropout_rate=0.4\n",
      "313/313 [==============================] - 1s 3ms/step - loss: 0.3699 - accuracy: 0.8613\n",
      "Test accuracy: 0.861299991607666\n",
      "Training model with learning_rate=0.1, momentum=0.99, dropout_rate=0.1\n",
      "313/313 [==============================] - 1s 3ms/step - loss: 0.4300 - accuracy: 0.8599\n",
      "Test accuracy: 0.8598999977111816\n",
      "Training model with learning_rate=0.1, momentum=0.99, dropout_rate=0.2\n",
      "313/313 [==============================] - 1s 2ms/step - loss: 0.4470 - accuracy: 0.8460\n",
      "Test accuracy: 0.8460000157356262\n",
      "Training model with learning_rate=0.1, momentum=0.99, dropout_rate=0.4\n",
      "313/313 [==============================] - 1s 3ms/step - loss: 0.8562 - accuracy: 0.6494\n",
      "Test accuracy: 0.649399995803833\n"
     ]
    }
   ],
   "source": [
    "epochs = 50\n",
    "batch_size = 1000\n",
    "\n",
    "best_accuracy = 0\n",
    "best_params = {}\n",
    "model_number = 1\n",
    "\n",
    "results_data = []\n",
    "\n",
    "# Perform grid search\n",
    "for learning_rate in learning_rates:\n",
    "    for momentum in momentums:\n",
    "        for dropout_rate in dropout_rates:\n",
    "            print(f\"Training model with learning_rate={learning_rate}, momentum={momentum}, dropout_rate={dropout_rate}\")\n",
    "            model = build_model(learning_rate=learning_rate, momentum=momentum, dropout_rate=dropout_rate)\n",
    "            model.fit(X_train, y_train, epochs=epochs, batch_size=batch_size, validation_data=(X_test, y_test) , verbose=None)\n",
    "            _, accuracy = model.evaluate(X_test, y_test)\n",
    "            print(f\"Test accuracy: {accuracy}\")\n",
    "\n",
    "            # Append the results to the list of dictionaries\n",
    "            results_data.append({'model_number': model_number,\n",
    "                                 'learning_rate': learning_rate,\n",
    "                                 'momentum': momentum,\n",
    "                                 'dropout_rate': dropout_rate,\n",
    "                                 'accuracy': accuracy})\n",
    "            model_number += 1\n",
    "\n",
    "# Create DataFrame from the list of model evaluation dictionaries\n",
    "results = pd.DataFrame(results_data)"
   ]
  },
  {
   "cell_type": "code",
   "execution_count": 39,
   "metadata": {
    "colab": {
     "base_uri": "https://localhost:8080/",
     "height": 81
    },
    "executionInfo": {
     "elapsed": 607,
     "status": "ok",
     "timestamp": 1708939912196,
     "user": {
      "displayName": "Tolga TOSUN",
      "userId": "02019990685565649191"
     },
     "user_tz": -60
    },
    "id": "ZaXgeeeuZrrs",
    "outputId": "3eedd48b-e0d5-4ab1-aa66-b006039a09b2"
   },
   "outputs": [
    {
     "data": {
      "application/vnd.google.colaboratory.intrinsic+json": {
       "summary": "{\n  \"name\": \"results[results['accuracy']==results['accuracy']\",\n  \"rows\": 1,\n  \"fields\": [\n    {\n      \"column\": \"model_number\",\n      \"properties\": {\n        \"dtype\": \"number\",\n        \"std\": null,\n        \"min\": 19,\n        \"max\": 19,\n        \"num_unique_values\": 1,\n        \"samples\": [\n          19\n        ],\n        \"semantic_type\": \"\",\n        \"description\": \"\"\n      }\n    },\n    {\n      \"column\": \"learning_rate\",\n      \"properties\": {\n        \"dtype\": \"number\",\n        \"std\": null,\n        \"min\": 0.1,\n        \"max\": 0.1,\n        \"num_unique_values\": 1,\n        \"samples\": [\n          0.1\n        ],\n        \"semantic_type\": \"\",\n        \"description\": \"\"\n      }\n    },\n    {\n      \"column\": \"momentum\",\n      \"properties\": {\n        \"dtype\": \"number\",\n        \"std\": null,\n        \"min\": 0.9,\n        \"max\": 0.9,\n        \"num_unique_values\": 1,\n        \"samples\": [\n          0.9\n        ],\n        \"semantic_type\": \"\",\n        \"description\": \"\"\n      }\n    },\n    {\n      \"column\": \"dropout_rate\",\n      \"properties\": {\n        \"dtype\": \"number\",\n        \"std\": null,\n        \"min\": 0.1,\n        \"max\": 0.1,\n        \"num_unique_values\": 1,\n        \"samples\": [\n          0.1\n        ],\n        \"semantic_type\": \"\",\n        \"description\": \"\"\n      }\n    },\n    {\n      \"column\": \"accuracy\",\n      \"properties\": {\n        \"dtype\": \"number\",\n        \"std\": null,\n        \"min\": 0.88919997215271,\n        \"max\": 0.88919997215271,\n        \"num_unique_values\": 1,\n        \"samples\": [\n          0.88919997215271\n        ],\n        \"semantic_type\": \"\",\n        \"description\": \"\"\n      }\n    }\n  ]\n}",
       "type": "dataframe"
      },
      "text/html": [
       "\n",
       "  <div id=\"df-4408412c-97ee-45a2-8671-17bebde8fc80\" class=\"colab-df-container\">\n",
       "    <div>\n",
       "<style scoped>\n",
       "    .dataframe tbody tr th:only-of-type {\n",
       "        vertical-align: middle;\n",
       "    }\n",
       "\n",
       "    .dataframe tbody tr th {\n",
       "        vertical-align: top;\n",
       "    }\n",
       "\n",
       "    .dataframe thead th {\n",
       "        text-align: right;\n",
       "    }\n",
       "</style>\n",
       "<table border=\"1\" class=\"dataframe\">\n",
       "  <thead>\n",
       "    <tr style=\"text-align: right;\">\n",
       "      <th></th>\n",
       "      <th>model_number</th>\n",
       "      <th>learning_rate</th>\n",
       "      <th>momentum</th>\n",
       "      <th>dropout_rate</th>\n",
       "      <th>accuracy</th>\n",
       "    </tr>\n",
       "  </thead>\n",
       "  <tbody>\n",
       "    <tr>\n",
       "      <th>18</th>\n",
       "      <td>19</td>\n",
       "      <td>0.1</td>\n",
       "      <td>0.9</td>\n",
       "      <td>0.1</td>\n",
       "      <td>0.8892</td>\n",
       "    </tr>\n",
       "  </tbody>\n",
       "</table>\n",
       "</div>\n",
       "    <div class=\"colab-df-buttons\">\n",
       "\n",
       "  <div class=\"colab-df-container\">\n",
       "    <button class=\"colab-df-convert\" onclick=\"convertToInteractive('df-4408412c-97ee-45a2-8671-17bebde8fc80')\"\n",
       "            title=\"Convert this dataframe to an interactive table.\"\n",
       "            style=\"display:none;\">\n",
       "\n",
       "  <svg xmlns=\"http://www.w3.org/2000/svg\" height=\"24px\" viewBox=\"0 -960 960 960\">\n",
       "    <path d=\"M120-120v-720h720v720H120Zm60-500h600v-160H180v160Zm220 220h160v-160H400v160Zm0 220h160v-160H400v160ZM180-400h160v-160H180v160Zm440 0h160v-160H620v160ZM180-180h160v-160H180v160Zm440 0h160v-160H620v160Z\"/>\n",
       "  </svg>\n",
       "    </button>\n",
       "\n",
       "  <style>\n",
       "    .colab-df-container {\n",
       "      display:flex;\n",
       "      gap: 12px;\n",
       "    }\n",
       "\n",
       "    .colab-df-convert {\n",
       "      background-color: #E8F0FE;\n",
       "      border: none;\n",
       "      border-radius: 50%;\n",
       "      cursor: pointer;\n",
       "      display: none;\n",
       "      fill: #1967D2;\n",
       "      height: 32px;\n",
       "      padding: 0 0 0 0;\n",
       "      width: 32px;\n",
       "    }\n",
       "\n",
       "    .colab-df-convert:hover {\n",
       "      background-color: #E2EBFA;\n",
       "      box-shadow: 0px 1px 2px rgba(60, 64, 67, 0.3), 0px 1px 3px 1px rgba(60, 64, 67, 0.15);\n",
       "      fill: #174EA6;\n",
       "    }\n",
       "\n",
       "    .colab-df-buttons div {\n",
       "      margin-bottom: 4px;\n",
       "    }\n",
       "\n",
       "    [theme=dark] .colab-df-convert {\n",
       "      background-color: #3B4455;\n",
       "      fill: #D2E3FC;\n",
       "    }\n",
       "\n",
       "    [theme=dark] .colab-df-convert:hover {\n",
       "      background-color: #434B5C;\n",
       "      box-shadow: 0px 1px 3px 1px rgba(0, 0, 0, 0.15);\n",
       "      filter: drop-shadow(0px 1px 2px rgba(0, 0, 0, 0.3));\n",
       "      fill: #FFFFFF;\n",
       "    }\n",
       "  </style>\n",
       "\n",
       "    <script>\n",
       "      const buttonEl =\n",
       "        document.querySelector('#df-4408412c-97ee-45a2-8671-17bebde8fc80 button.colab-df-convert');\n",
       "      buttonEl.style.display =\n",
       "        google.colab.kernel.accessAllowed ? 'block' : 'none';\n",
       "\n",
       "      async function convertToInteractive(key) {\n",
       "        const element = document.querySelector('#df-4408412c-97ee-45a2-8671-17bebde8fc80');\n",
       "        const dataTable =\n",
       "          await google.colab.kernel.invokeFunction('convertToInteractive',\n",
       "                                                    [key], {});\n",
       "        if (!dataTable) return;\n",
       "\n",
       "        const docLinkHtml = 'Like what you see? Visit the ' +\n",
       "          '<a target=\"_blank\" href=https://colab.research.google.com/notebooks/data_table.ipynb>data table notebook</a>'\n",
       "          + ' to learn more about interactive tables.';\n",
       "        element.innerHTML = '';\n",
       "        dataTable['output_type'] = 'display_data';\n",
       "        await google.colab.output.renderOutput(dataTable, element);\n",
       "        const docLink = document.createElement('div');\n",
       "        docLink.innerHTML = docLinkHtml;\n",
       "        element.appendChild(docLink);\n",
       "      }\n",
       "    </script>\n",
       "  </div>\n",
       "\n",
       "    </div>\n",
       "  </div>\n"
      ],
      "text/plain": [
       "    model_number  learning_rate  momentum  dropout_rate  accuracy\n",
       "18            19            0.1       0.9           0.1    0.8892"
      ]
     },
     "execution_count": 39,
     "metadata": {},
     "output_type": "execute_result"
    }
   ],
   "source": [
    "# Present the best hyperparameters\n",
    "results[results['accuracy']==results['accuracy'].max()]"
   ]
  },
  {
   "cell_type": "code",
   "execution_count": 40,
   "metadata": {
    "colab": {
     "base_uri": "https://localhost:8080/"
    },
    "executionInfo": {
     "elapsed": 82556,
     "status": "ok",
     "timestamp": 1708939994751,
     "user": {
      "displayName": "Tolga TOSUN",
      "userId": "02019990685565649191"
     },
     "user_tz": -60
    },
    "id": "5MpWFiNdEtIo",
    "outputId": "9c3f990b-9ffb-416b-dd9a-4b9444b57d28"
   },
   "outputs": [
    {
     "name": "stdout",
     "output_type": "stream",
     "text": [
      "Epoch 1/50\n",
      "60/60 [==============================] - 2s 19ms/step - loss: 0.9234 - accuracy: 0.6592 - val_loss: 0.5416 - val_accuracy: 0.8020\n",
      "Epoch 2/50\n",
      "60/60 [==============================] - 1s 16ms/step - loss: 0.5341 - accuracy: 0.8094 - val_loss: 0.4569 - val_accuracy: 0.8342\n",
      "Epoch 3/50\n",
      "60/60 [==============================] - 1s 16ms/step - loss: 0.4729 - accuracy: 0.8298 - val_loss: 0.4376 - val_accuracy: 0.8407\n",
      "Epoch 4/50\n",
      "60/60 [==============================] - 1s 16ms/step - loss: 0.4378 - accuracy: 0.8429 - val_loss: 0.4123 - val_accuracy: 0.8510\n",
      "Epoch 5/50\n",
      "60/60 [==============================] - 1s 16ms/step - loss: 0.4200 - accuracy: 0.8489 - val_loss: 0.4081 - val_accuracy: 0.8509\n",
      "Epoch 6/50\n",
      "60/60 [==============================] - 1s 16ms/step - loss: 0.4047 - accuracy: 0.8554 - val_loss: 0.3903 - val_accuracy: 0.8579\n",
      "Epoch 7/50\n",
      "60/60 [==============================] - 1s 16ms/step - loss: 0.3893 - accuracy: 0.8591 - val_loss: 0.3795 - val_accuracy: 0.8606\n",
      "Epoch 8/50\n",
      "60/60 [==============================] - 1s 16ms/step - loss: 0.3757 - accuracy: 0.8655 - val_loss: 0.3851 - val_accuracy: 0.8597\n",
      "Epoch 9/50\n",
      "60/60 [==============================] - 1s 16ms/step - loss: 0.3699 - accuracy: 0.8669 - val_loss: 0.3775 - val_accuracy: 0.8626\n",
      "Epoch 10/50\n",
      "60/60 [==============================] - 1s 20ms/step - loss: 0.3613 - accuracy: 0.8687 - val_loss: 0.3651 - val_accuracy: 0.8671\n",
      "Epoch 11/50\n",
      "60/60 [==============================] - 2s 26ms/step - loss: 0.3594 - accuracy: 0.8698 - val_loss: 0.3647 - val_accuracy: 0.8666\n",
      "Epoch 12/50\n",
      "60/60 [==============================] - 1s 18ms/step - loss: 0.3518 - accuracy: 0.8727 - val_loss: 0.3540 - val_accuracy: 0.8748\n",
      "Epoch 13/50\n",
      "60/60 [==============================] - 1s 16ms/step - loss: 0.3478 - accuracy: 0.8735 - val_loss: 0.3666 - val_accuracy: 0.8631\n",
      "Epoch 14/50\n",
      "60/60 [==============================] - 1s 16ms/step - loss: 0.3464 - accuracy: 0.8737 - val_loss: 0.3602 - val_accuracy: 0.8701\n",
      "Epoch 15/50\n",
      "60/60 [==============================] - 1s 17ms/step - loss: 0.3398 - accuracy: 0.8779 - val_loss: 0.3528 - val_accuracy: 0.8751\n",
      "Epoch 16/50\n",
      "60/60 [==============================] - 1s 17ms/step - loss: 0.3353 - accuracy: 0.8788 - val_loss: 0.3544 - val_accuracy: 0.8724\n",
      "Epoch 17/50\n",
      "60/60 [==============================] - 1s 16ms/step - loss: 0.3312 - accuracy: 0.8794 - val_loss: 0.3482 - val_accuracy: 0.8728\n",
      "Epoch 18/50\n",
      "60/60 [==============================] - 1s 16ms/step - loss: 0.3227 - accuracy: 0.8816 - val_loss: 0.3510 - val_accuracy: 0.8725\n",
      "Epoch 19/50\n",
      "60/60 [==============================] - 1s 16ms/step - loss: 0.3217 - accuracy: 0.8824 - val_loss: 0.3388 - val_accuracy: 0.8800\n",
      "Epoch 20/50\n",
      "60/60 [==============================] - 1s 18ms/step - loss: 0.3143 - accuracy: 0.8856 - val_loss: 0.3401 - val_accuracy: 0.8776\n",
      "Epoch 21/50\n",
      "60/60 [==============================] - 1s 16ms/step - loss: 0.3105 - accuracy: 0.8855 - val_loss: 0.3416 - val_accuracy: 0.8732\n",
      "Epoch 22/50\n",
      "60/60 [==============================] - 1s 22ms/step - loss: 0.3123 - accuracy: 0.8862 - val_loss: 0.3434 - val_accuracy: 0.8770\n",
      "Epoch 23/50\n",
      "60/60 [==============================] - 2s 25ms/step - loss: 0.3079 - accuracy: 0.8871 - val_loss: 0.3460 - val_accuracy: 0.8779\n",
      "Epoch 24/50\n",
      "60/60 [==============================] - 1s 17ms/step - loss: 0.3075 - accuracy: 0.8870 - val_loss: 0.3287 - val_accuracy: 0.8803\n",
      "Epoch 25/50\n",
      "60/60 [==============================] - 1s 16ms/step - loss: 0.2958 - accuracy: 0.8920 - val_loss: 0.3332 - val_accuracy: 0.8809\n",
      "Epoch 26/50\n",
      "60/60 [==============================] - 1s 16ms/step - loss: 0.3001 - accuracy: 0.8895 - val_loss: 0.3354 - val_accuracy: 0.8798\n",
      "Epoch 27/50\n",
      "60/60 [==============================] - 1s 16ms/step - loss: 0.2945 - accuracy: 0.8921 - val_loss: 0.3319 - val_accuracy: 0.8802\n",
      "Epoch 28/50\n",
      "60/60 [==============================] - 1s 16ms/step - loss: 0.2946 - accuracy: 0.8920 - val_loss: 0.3351 - val_accuracy: 0.8782\n",
      "Epoch 29/50\n",
      "60/60 [==============================] - 1s 16ms/step - loss: 0.2927 - accuracy: 0.8932 - val_loss: 0.3285 - val_accuracy: 0.8816\n",
      "Epoch 30/50\n",
      "60/60 [==============================] - 1s 16ms/step - loss: 0.2908 - accuracy: 0.8920 - val_loss: 0.3234 - val_accuracy: 0.8854\n",
      "Epoch 31/50\n",
      "60/60 [==============================] - 1s 16ms/step - loss: 0.2897 - accuracy: 0.8937 - val_loss: 0.3265 - val_accuracy: 0.8847\n",
      "Epoch 32/50\n",
      "60/60 [==============================] - 1s 17ms/step - loss: 0.2843 - accuracy: 0.8955 - val_loss: 0.3244 - val_accuracy: 0.8837\n",
      "Epoch 33/50\n",
      "60/60 [==============================] - 1s 16ms/step - loss: 0.2847 - accuracy: 0.8951 - val_loss: 0.3309 - val_accuracy: 0.8819\n",
      "Epoch 34/50\n",
      "60/60 [==============================] - 1s 22ms/step - loss: 0.2816 - accuracy: 0.8964 - val_loss: 0.3297 - val_accuracy: 0.8801\n",
      "Epoch 35/50\n",
      "60/60 [==============================] - 2s 26ms/step - loss: 0.2815 - accuracy: 0.8972 - val_loss: 0.3328 - val_accuracy: 0.8792\n",
      "Epoch 36/50\n",
      "60/60 [==============================] - 1s 17ms/step - loss: 0.2772 - accuracy: 0.8968 - val_loss: 0.3219 - val_accuracy: 0.8842\n",
      "Epoch 37/50\n",
      "60/60 [==============================] - 1s 16ms/step - loss: 0.2803 - accuracy: 0.8962 - val_loss: 0.3260 - val_accuracy: 0.8832\n",
      "Epoch 38/50\n",
      "60/60 [==============================] - 1s 16ms/step - loss: 0.2750 - accuracy: 0.8980 - val_loss: 0.3233 - val_accuracy: 0.8814\n",
      "Epoch 39/50\n",
      "60/60 [==============================] - 1s 16ms/step - loss: 0.2735 - accuracy: 0.8992 - val_loss: 0.3250 - val_accuracy: 0.8831\n",
      "Epoch 40/50\n",
      "60/60 [==============================] - 1s 16ms/step - loss: 0.2789 - accuracy: 0.8972 - val_loss: 0.3211 - val_accuracy: 0.8831\n",
      "Epoch 41/50\n",
      "60/60 [==============================] - 1s 16ms/step - loss: 0.2737 - accuracy: 0.8991 - val_loss: 0.3242 - val_accuracy: 0.8836\n",
      "Epoch 42/50\n",
      "60/60 [==============================] - 1s 16ms/step - loss: 0.2716 - accuracy: 0.8996 - val_loss: 0.3448 - val_accuracy: 0.8777\n",
      "Epoch 43/50\n",
      "60/60 [==============================] - 1s 16ms/step - loss: 0.2729 - accuracy: 0.8996 - val_loss: 0.3236 - val_accuracy: 0.8806\n",
      "Epoch 44/50\n",
      "60/60 [==============================] - 1s 16ms/step - loss: 0.2720 - accuracy: 0.8998 - val_loss: 0.3241 - val_accuracy: 0.8849\n",
      "Epoch 45/50\n",
      "60/60 [==============================] - 1s 16ms/step - loss: 0.2703 - accuracy: 0.9008 - val_loss: 0.3331 - val_accuracy: 0.8810\n",
      "Epoch 46/50\n",
      "60/60 [==============================] - 1s 20ms/step - loss: 0.2687 - accuracy: 0.9010 - val_loss: 0.3184 - val_accuracy: 0.8844\n",
      "Epoch 47/50\n",
      "60/60 [==============================] - 2s 27ms/step - loss: 0.2629 - accuracy: 0.9018 - val_loss: 0.3232 - val_accuracy: 0.8859\n",
      "Epoch 48/50\n",
      "60/60 [==============================] - 1s 20ms/step - loss: 0.2626 - accuracy: 0.9024 - val_loss: 0.3155 - val_accuracy: 0.8885\n",
      "Epoch 49/50\n",
      "60/60 [==============================] - 1s 16ms/step - loss: 0.2573 - accuracy: 0.9050 - val_loss: 0.3227 - val_accuracy: 0.8850\n",
      "Epoch 50/50\n",
      "60/60 [==============================] - 1s 16ms/step - loss: 0.2551 - accuracy: 0.9051 - val_loss: 0.3211 - val_accuracy: 0.8845\n"
     ]
    }
   ],
   "source": [
    "# Define the best hyperparameters\n",
    "epochs_5 = 50\n",
    "batch_size_5 = 1000\n",
    "learning_rate_5 = 0.1\n",
    "momentum_5 = 0.9\n",
    "dropout_rate_5 = 0.1\n",
    "\n",
    "# Train the model with the best hyperparameters\n",
    "model_5 = build_model(learning_rate=learning_rate_5, momentum=momentum_5, dropout_rate=dropout_rate_5)\n",
    "history_5 = model_5.fit(X_train, y_train, epochs=epochs_5, batch_size=batch_size_5, validation_data=(X_test, y_test))"
   ]
  },
  {
   "cell_type": "code",
   "execution_count": 41,
   "metadata": {
    "colab": {
     "base_uri": "https://localhost:8080/"
    },
    "executionInfo": {
     "elapsed": 1048,
     "status": "ok",
     "timestamp": 1708939995750,
     "user": {
      "displayName": "Tolga TOSUN",
      "userId": "02019990685565649191"
     },
     "user_tz": -60
    },
    "id": "MCiZO60lFXUR",
    "outputId": "3332180c-9dec-4c80-bcf1-ff990c0ea42e"
   },
   "outputs": [
    {
     "name": "stdout",
     "output_type": "stream",
     "text": [
      "313/313 [==============================] - 1s 2ms/step - loss: 0.3211 - accuracy: 0.8845\n",
      "Test accuracy: 88.5%\n"
     ]
    }
   ],
   "source": [
    "# Evaluate the model\n",
    "test_loss_5, test_acc_5 = model_5.evaluate(X_test, y_test)\n",
    "print(\"Test accuracy:\", \"{:.1%}\".format(test_acc_5))"
   ]
  },
  {
   "cell_type": "markdown",
   "metadata": {
    "id": "hPuBH0lcoFKM"
   },
   "source": [
    "After grid search evaluation, we have obtained the best hyperparameters. Then, we have trained the model with the hyperparameters, resulting the highest accuracy in between all the models."
   ]
  },
  {
   "cell_type": "markdown",
   "metadata": {
    "id": "jBdd3Q1KHaqh"
   },
   "source": [
    "## 4. OVERALL EVALUATION"
   ]
  },
  {
   "cell_type": "markdown",
   "metadata": {
    "id": "Jn2usaieHAA9"
   },
   "source": [
    "### 4.1. Accuracy Comparison"
   ]
  },
  {
   "cell_type": "code",
   "execution_count": 42,
   "metadata": {
    "colab": {
     "base_uri": "https://localhost:8080/",
     "height": 472
    },
    "executionInfo": {
     "elapsed": 13,
     "status": "ok",
     "timestamp": 1708939995750,
     "user": {
      "displayName": "Tolga TOSUN",
      "userId": "02019990685565649191"
     },
     "user_tz": -60
    },
    "id": "F_-C3OMwHGhH",
    "outputId": "cac40f23-e752-4eb4-9894-80e9602cf89c"
   },
   "outputs": [
    {
     "data": {
      "image/png": "[encoded data removed]",
      "text/plain": [
       "<Figure size 640x480 with 1 Axes>"
      ]
     },
     "metadata": {},
     "output_type": "display_data"
    }
   ],
   "source": [
    "acc_list = [test_acc_1, test_acc_2, test_acc_3, test_acc_4, test_acc_5]\n",
    "\n",
    "# Plotting the accuracies\n",
    "plt.plot(acc_list, marker='o', linestyle='-')\n",
    "plt.title('Test Accuracies')\n",
    "plt.xlabel('Model Number')\n",
    "plt.ylabel('Accuracy')\n",
    "plt.xticks(range(5), ['Model 1', 'Model 2', 'Model 3', 'Model 4', 'Model 5'])  # Set x-axis labels\n",
    "plt.grid(True)\n",
    "plt.show()"
   ]
  },
  {
   "cell_type": "markdown",
   "metadata": {
    "id": "Gyc8BoHYH8Oy"
   },
   "source": [
    "As presented above, the highest accuracy has been maintained from Model 5, whose hyperparameters have been tuned by a grid search evaluation. As a result, it lead us to find the best hyperparameters, resulting the best accuracy."
   ]
  },
  {
   "cell_type": "markdown",
   "metadata": {
    "id": "mQKJ6yhvHqKt"
   },
   "source": [
    "### 4.2. Loss Comparison"
   ]
  },
  {
   "cell_type": "code",
   "execution_count": 43,
   "metadata": {
    "colab": {
     "base_uri": "https://localhost:8080/",
     "height": 472
    },
    "executionInfo": {
     "elapsed": 744,
     "status": "ok",
     "timestamp": 1708939996485,
     "user": {
      "displayName": "Tolga TOSUN",
      "userId": "02019990685565649191"
     },
     "user_tz": -60
    },
    "id": "UG3NabdwHep5",
    "outputId": "fefa6461-85b2-46c8-eec2-1986c5f4ef30"
   },
   "outputs": [
    {
     "data": {
      "image/png": "[encoded data removed]",
      "text/plain": [
       "<Figure size 640x480 with 1 Axes>"
      ]
     },
     "metadata": {},
     "output_type": "display_data"
    }
   ],
   "source": [
    "acc_list = [test_loss_1, test_loss_2, test_loss_3, test_loss_4, test_loss_5]\n",
    "\n",
    "# Plotting the accuracies\n",
    "plt.plot(acc_list, marker='o', linestyle='-')\n",
    "plt.title('Test Losses')\n",
    "plt.xlabel('Model Number')\n",
    "plt.ylabel('Loss')\n",
    "plt.xticks(range(5), ['Model 1', 'Model 2', 'Model 3', 'Model 4', 'Model 5'])  # Set x-axis labels\n",
    "plt.grid(True)\n",
    "plt.show()"
   ]
  },
  {
   "cell_type": "markdown",
   "metadata": {
    "id": "eutx8tZEIdgc"
   },
   "source": [
    "As we expected, the fifth model, which has the highest accuracy, has the lowest loss."
   ]
  },
  {
   "cell_type": "markdown",
   "metadata": {
    "id": "4wAKtz_bUkwD"
   },
   "source": [
    "### 4.3. Accuracy and Loss of the 5th Model"
   ]
  },
  {
   "cell_type": "code",
   "execution_count": 44,
   "metadata": {
    "colab": {
     "base_uri": "https://localhost:8080/",
     "height": 472
    },
    "executionInfo": {
     "elapsed": 23,
     "status": "ok",
     "timestamp": 1708939996486,
     "user": {
      "displayName": "Tolga TOSUN",
      "userId": "02019990685565649191"
     },
     "user_tz": -60
    },
    "id": "bw8TlHY6Uq3e",
    "outputId": "ba324b5a-d56c-42cd-91af-6ffbe54cc7ed"
   },
   "outputs": [
    {
     "data": {
      "image/png": "[encoded data removed]",
      "text/plain": [
       "<Figure size 640x480 with 1 Axes>"
      ]
     },
     "metadata": {},
     "output_type": "display_data"
    }
   ],
   "source": [
    "# Plot training & validation accuracy values\n",
    "plt.plot(history_5.history['accuracy'])\n",
    "plt.plot(history_5.history['val_accuracy'])\n",
    "plt.title('Model accuracy')\n",
    "plt.ylabel('Accuracy')\n",
    "plt.xlabel('Epoch')\n",
    "plt.legend(['Train', 'Validation'], loc='upper left')\n",
    "plt.show()"
   ]
  },
  {
   "cell_type": "code",
   "execution_count": 45,
   "metadata": {
    "colab": {
     "base_uri": "https://localhost:8080/",
     "height": 472
    },
    "executionInfo": {
     "elapsed": 24,
     "status": "ok",
     "timestamp": 1708939997165,
     "user": {
      "displayName": "Tolga TOSUN",
      "userId": "02019990685565649191"
     },
     "user_tz": -60
    },
    "id": "W0zGDdtKXJk3",
    "outputId": "dc44ced2-c361-4ca9-8beb-82a339ca0853"
   },
   "outputs": [
    {
     "data": {
      "image/png": "[encoded data removed]",
      "text/plain": [
       "<Figure size 640x480 with 1 Axes>"
      ]
     },
     "metadata": {},
     "output_type": "display_data"
    }
   ],
   "source": [
    "# Plot training & validation loss values\n",
    "plt.plot(history_5.history['loss'])\n",
    "plt.plot(history_5.history['val_loss'])\n",
    "plt.title('Model loss')\n",
    "plt.ylabel('Loss')\n",
    "plt.xlabel('Epoch')\n",
    "plt.legend(['Train', 'Validation'], loc='upper left')\n",
    "plt.show()"
   ]
  },
  {
   "cell_type": "markdown",
   "metadata": {
    "id": "WPdlo_tnXU0A"
   },
   "source": [
    "We can visually confirm that there is no significant progress on accuracy and loss after 20th epoch."
   ]
  },
  {
   "cell_type": "markdown",
   "metadata": {
    "id": "Z7cgMIGsIp33"
   },
   "source": [
    "### 4.4. Tests with the Fifth Model"
   ]
  },
  {
   "cell_type": "markdown",
   "metadata": {
    "id": "DRh88ll_T2y0"
   },
   "source": [
    "In this section, we will be predicting 10 images from the test dataset."
   ]
  },
  {
   "cell_type": "code",
   "execution_count": 46,
   "metadata": {
    "colab": {
     "base_uri": "https://localhost:8080/",
     "height": 1000
    },
    "executionInfo": {
     "elapsed": 1572,
     "status": "ok",
     "timestamp": 1708939998718,
     "user": {
      "displayName": "Tolga TOSUN",
      "userId": "02019990685565649191"
     },
     "user_tz": -60
    },
    "id": "FUregvXkPGin",
    "outputId": "30b3f11a-8076-4e15-b811-c50902f263e7"
   },
   "outputs": [
    {
     "name": "stdout",
     "output_type": "stream",
     "text": [
      "1/1 [==============================] - 0s 150ms/step\n"
     ]
    },
    {
     "data": {
      "image/png": "[encoded data removed]",
      "text/plain": [
       "<Figure size 200x200 with 1 Axes>"
      ]
     },
     "metadata": {},
     "output_type": "display_data"
    },
    {
     "data": {
      "image/png": "[encoded data removed]",
      "text/plain": [
       "<Figure size 200x200 with 1 Axes>"
      ]
     },
     "metadata": {},
     "output_type": "display_data"
    },
    {
     "data": {
      "image/png": "[encoded data removed]",
      "text/plain": [
       "<Figure size 200x200 with 1 Axes>"
      ]
     },
     "metadata": {},
     "output_type": "display_data"
    },
    {
     "data": {
      "image/png": "[encoded data removed]",
      "text/plain": [
       "<Figure size 200x200 with 1 Axes>"
      ]
     },
     "metadata": {},
     "output_type": "display_data"
    },
    {
     "data": {
      "image/png": "[encoded data removed]",
      "text/plain": [
       "<Figure size 200x200 with 1 Axes>"
      ]
     },
     "metadata": {},
     "output_type": "display_data"
    },
    {
     "data": {
      "image/png": "[encoded data removed]",
      "text/plain": [
       "<Figure size 200x200 with 1 Axes>"
      ]
     },
     "metadata": {},
     "output_type": "display_data"
    },
    {
     "data": {
      "image/png": "[encoded data removed]",
      "text/plain": [
       "<Figure size 200x200 with 1 Axes>"
      ]
     },
     "metadata": {},
     "output_type": "display_data"
    },
    {
     "data": {
      "image/png": "[encoded data removed]",
      "text/plain": [
       "<Figure size 200x200 with 1 Axes>"
      ]
     },
     "metadata": {},
     "output_type": "display_data"
    },
    {
     "data": {
      "image/png": "[encoded data removed]",
      "text/plain": [
       "<Figure size 200x200 with 1 Axes>"
      ]
     },
     "metadata": {},
     "output_type": "display_data"
    },
    {
     "data": {
      "image/png": "[encoded data removed]",
      "text/plain": [
       "<Figure size 200x200 with 1 Axes>"
      ]
     },
     "metadata": {},
     "output_type": "display_data"
    }
   ],
   "source": [
    "# Extract a batch of test images and labels from the test_dataset\n",
    "test_images, test_labels = next(iter(test_dataset.batch(10)))\n",
    "\n",
    "# Convert integer labels to one-hot encoded labels\n",
    "test_labels_one_hot = to_categorical(test_labels, num_classes=len(class_names))\n",
    "\n",
    "# Convert test_images to numpy arrays\n",
    "test_images = test_images.numpy()\n",
    "\n",
    "# Predicting categories of images by 5th model, which has the highest accuracy\n",
    "predictions = model_5.predict(test_images)\n",
    "\n",
    "# Obtain predicted class indices\n",
    "predicted_indices = np.argmax(predictions, axis=1)\n",
    "\n",
    "# Map class indices to class names\n",
    "predicted_labels = [class_names[idx] for idx in predicted_indices]\n",
    "actual_labels = [class_names[idx] for idx in np.argmax(test_labels_one_hot, axis=1)]\n",
    "\n",
    "# Display images with predicted and actual labels\n",
    "for i in range(len(test_images)):\n",
    "    plt.figure(figsize=(2, 2))\n",
    "    plt.imshow(test_images[i], cmap='gray')\n",
    "    plt.title(f'Predicted: {predicted_labels[i]}\\nActual: {actual_labels[i]}')\n",
    "    plt.axis('off')\n",
    "    plt.show()"
   ]
  },
  {
   "cell_type": "code",
   "execution_count": null,
   "metadata": {
    "id": "16cBl0V6oarI"
   },
   "outputs": [],
   "source": []
  }
 ],
 "metadata": {
  "accelerator": "GPU",
  "colab": {
   "authorship_tag": "ABX9TyPhAap/BRvLP+zl9qsjSGcn",
   "gpuType": "T4",
   "provenance": []
  },
  "kernelspec": {
   "display_name": "Python 3 (ipykernel)",
   "language": "python",
   "name": "python3"
  },
  "language_info": {
   "codemirror_mode": {
    "name": "ipython",
    "version": 3
   },
   "file_extension": ".py",
   "mimetype": "text/x-python",
   "name": "python",
   "nbconvert_exporter": "python",
   "pygments_lexer": "ipython3",
   "version": "3.11.7"
  },
  "widgets": {
   "application/vnd.jupyter.widget-state+json": {
    "03d1d50b3cdb4690804b14a7e4b61e05": {
     "model_module": "@jupyter-widgets/base",
     "model_module_version": "1.2.0",
     "model_name": "LayoutModel",
     "state": {
      "_model_module": "@jupyter-widgets/base",
      "_model_module_version": "1.2.0",
      "_model_name": "LayoutModel",
      "_view_count": null,
      "_view_module": "@jupyter-widgets/base",
      "_view_module_version": "1.2.0",
      "_view_name": "LayoutView",
      "align_content": null,
      "align_items": null,
      "align_self": null,
      "border": null,
      "bottom": null,
      "display": null,
      "flex": null,
      "flex_flow": null,
      "grid_area": null,
      "grid_auto_columns": null,
      "grid_auto_flow": null,
      "grid_auto_rows": null,
      "grid_column": null,
      "grid_gap": null,
      "grid_row": null,
      "grid_template_areas": null,
      "grid_template_columns": null,
      "grid_template_rows": null,
      "height": null,
      "justify_content": null,
      "justify_items": null,
      "left": null,
      "margin": null,
      "max_height": null,
      "max_width": null,
      "min_height": null,
      "min_width": null,
      "object_fit": null,
      "object_position": null,
      "order": null,
      "overflow": null,
      "overflow_x": null,
      "overflow_y": null,
      "padding": null,
      "right": null,
      "top": null,
      "visibility": null,
      "width": null
     }
    },
    "0564c91850c14b8e9854329efdad5b20": {
     "model_module": "@jupyter-widgets/base",
     "model_module_version": "1.2.0",
     "model_name": "LayoutModel",
     "state": {
      "_model_module": "@jupyter-widgets/base",
      "_model_module_version": "1.2.0",
      "_model_name": "LayoutModel",
      "_view_count": null,
      "_view_module": "@jupyter-widgets/base",
      "_view_module_version": "1.2.0",
      "_view_name": "LayoutView",
      "align_content": null,
      "align_items": null,
      "align_self": null,
      "border": null,
      "bottom": null,
      "display": null,
      "flex": null,
      "flex_flow": null,
      "grid_area": null,
      "grid_auto_columns": null,
      "grid_auto_flow": null,
      "grid_auto_rows": null,
      "grid_column": null,
      "grid_gap": null,
      "grid_row": null,
      "grid_template_areas": null,
      "grid_template_columns": null,
      "grid_template_rows": null,
      "height": null,
      "justify_content": null,
      "justify_items": null,
      "left": null,
      "margin": null,
      "max_height": null,
      "max_width": null,
      "min_height": null,
      "min_width": null,
      "object_fit": null,
      "object_position": null,
      "order": null,
      "overflow": null,
      "overflow_x": null,
      "overflow_y": null,
      "padding": null,
      "right": null,
      "top": null,
      "visibility": null,
      "width": null
     }
    },
    "0955b799805e4938b3efc34e2385d7be": {
     "model_module": "@jupyter-widgets/controls",
     "model_module_version": "1.5.0",
     "model_name": "HBoxModel",
     "state": {
      "_dom_classes": [],
      "_model_module": "@jupyter-widgets/controls",
      "_model_module_version": "1.5.0",
      "_model_name": "HBoxModel",
      "_view_count": null,
      "_view_module": "@jupyter-widgets/controls",
      "_view_module_version": "1.5.0",
      "_view_name": "HBoxView",
      "box_style": "",
      "children": [
       "IPY_MODEL_6db937063cd74a2aa20b8dfa43254963",
       "IPY_MODEL_131e103bc449408284e41ca6021b1422",
       "IPY_MODEL_313c3ae4618247b7a15f4a94c01fdb4c"
      ],
      "layout": "IPY_MODEL_4bc8fe45b9df4919945bb30a0415d0d1"
     }
    },
    "09e65d4242c2480692db4eec0aac6990": {
     "model_module": "@jupyter-widgets/controls",
     "model_module_version": "1.5.0",
     "model_name": "HBoxModel",
     "state": {
      "_dom_classes": [],
      "_model_module": "@jupyter-widgets/controls",
      "_model_module_version": "1.5.0",
      "_model_name": "HBoxModel",
      "_view_count": null,
      "_view_module": "@jupyter-widgets/controls",
      "_view_module_version": "1.5.0",
      "_view_name": "HBoxView",
      "box_style": "",
      "children": [
       "IPY_MODEL_b1af6d53c1554746951cc3686f77c8e4",
       "IPY_MODEL_692d7dc1a4d24abca84175d33a8c93d9",
       "IPY_MODEL_c2eb39514a334adc9c09032ada3b85f4"
      ],
      "layout": "IPY_MODEL_e9bff8770fd94e8599c279b58b08bac3"
     }
    },
    "127abd84154a43c7ba820b9f1200f0c2": {
     "model_module": "@jupyter-widgets/controls",
     "model_module_version": "1.5.0",
     "model_name": "DescriptionStyleModel",
     "state": {
      "_model_module": "@jupyter-widgets/controls",
      "_model_module_version": "1.5.0",
      "_model_name": "DescriptionStyleModel",
      "_view_count": null,
      "_view_module": "@jupyter-widgets/base",
      "_view_module_version": "1.2.0",
      "_view_name": "StyleView",
      "description_width": ""
     }
    },
    "1318e1860f10445a9f98fbf9f3915bfb": {
     "model_module": "@jupyter-widgets/base",
     "model_module_version": "1.2.0",
     "model_name": "LayoutModel",
     "state": {
      "_model_module": "@jupyter-widgets/base",
      "_model_module_version": "1.2.0",
      "_model_name": "LayoutModel",
      "_view_count": null,
      "_view_module": "@jupyter-widgets/base",
      "_view_module_version": "1.2.0",
      "_view_name": "LayoutView",
      "align_content": null,
      "align_items": null,
      "align_self": null,
      "border": null,
      "bottom": null,
      "display": null,
      "flex": null,
      "flex_flow": null,
      "grid_area": null,
      "grid_auto_columns": null,
      "grid_auto_flow": null,
      "grid_auto_rows": null,
      "grid_column": null,
      "grid_gap": null,
      "grid_row": null,
      "grid_template_areas": null,
      "grid_template_columns": null,
      "grid_template_rows": null,
      "height": null,
      "justify_content": null,
      "justify_items": null,
      "left": null,
      "margin": null,
      "max_height": null,
      "max_width": null,
      "min_height": null,
      "min_width": null,
      "object_fit": null,
      "object_position": null,
      "order": null,
      "overflow": null,
      "overflow_x": null,
      "overflow_y": null,
      "padding": null,
      "right": null,
      "top": null,
      "visibility": null,
      "width": null
     }
    },
    "131e103bc449408284e41ca6021b1422": {
     "model_module": "@jupyter-widgets/controls",
     "model_module_version": "1.5.0",
     "model_name": "FloatProgressModel",
     "state": {
      "_dom_classes": [],
      "_model_module": "@jupyter-widgets/controls",
      "_model_module_version": "1.5.0",
      "_model_name": "FloatProgressModel",
      "_view_count": null,
      "_view_module": "@jupyter-widgets/controls",
      "_view_module_version": "1.5.0",
      "_view_name": "ProgressView",
      "bar_style": "success",
      "description": "",
      "description_tooltip": null,
      "layout": "IPY_MODEL_dc05877059984b1c8ab4727f2fd41d6b",
      "max": 1,
      "min": 0,
      "orientation": "horizontal",
      "style": "IPY_MODEL_409dfa99c0024b46b154317cdc3846af",
      "value": 1
     }
    },
    "18bfd4c985a046ff934fad01ce36232e": {
     "model_module": "@jupyter-widgets/controls",
     "model_module_version": "1.5.0",
     "model_name": "DescriptionStyleModel",
     "state": {
      "_model_module": "@jupyter-widgets/controls",
      "_model_module_version": "1.5.0",
      "_model_name": "DescriptionStyleModel",
      "_view_count": null,
      "_view_module": "@jupyter-widgets/base",
      "_view_module_version": "1.2.0",
      "_view_name": "StyleView",
      "description_width": ""
     }
    },
    "1f82a0f2654342699d7a5cef71c3b97e": {
     "model_module": "@jupyter-widgets/controls",
     "model_module_version": "1.5.0",
     "model_name": "HTMLModel",
     "state": {
      "_dom_classes": [],
      "_model_module": "@jupyter-widgets/controls",
      "_model_module_version": "1.5.0",
      "_model_name": "HTMLModel",
      "_view_count": null,
      "_view_module": "@jupyter-widgets/controls",
      "_view_module_version": "1.5.0",
      "_view_name": "HTMLView",
      "description": "",
      "description_tooltip": null,
      "layout": "IPY_MODEL_7ce980e1debb495f8a2bb537d53c680c",
      "placeholder": "​",
      "style": "IPY_MODEL_80d623f2fcf4480bba7bc874d2e12075",
      "value": "Generating train examples...: 100%"
     }
    },
    "216a689452ae4555bfbf7de3bb509b5d": {
     "model_module": "@jupyter-widgets/controls",
     "model_module_version": "1.5.0",
     "model_name": "DescriptionStyleModel",
     "state": {
      "_model_module": "@jupyter-widgets/controls",
      "_model_module_version": "1.5.0",
      "_model_name": "DescriptionStyleModel",
      "_view_count": null,
      "_view_module": "@jupyter-widgets/base",
      "_view_module_version": "1.2.0",
      "_view_name": "StyleView",
      "description_width": ""
     }
    },
    "26aca8c0d96c40bfa0f7f143e424d4bc": {
     "model_module": "@jupyter-widgets/controls",
     "model_module_version": "1.5.0",
     "model_name": "DescriptionStyleModel",
     "state": {
      "_model_module": "@jupyter-widgets/controls",
      "_model_module_version": "1.5.0",
      "_model_name": "DescriptionStyleModel",
      "_view_count": null,
      "_view_module": "@jupyter-widgets/base",
      "_view_module_version": "1.2.0",
      "_view_name": "StyleView",
      "description_width": ""
     }
    },
    "299ddda3554641be8ce7b4455536b93c": {
     "model_module": "@jupyter-widgets/base",
     "model_module_version": "1.2.0",
     "model_name": "LayoutModel",
     "state": {
      "_model_module": "@jupyter-widgets/base",
      "_model_module_version": "1.2.0",
      "_model_name": "LayoutModel",
      "_view_count": null,
      "_view_module": "@jupyter-widgets/base",
      "_view_module_version": "1.2.0",
      "_view_name": "LayoutView",
      "align_content": null,
      "align_items": null,
      "align_self": null,
      "border": null,
      "bottom": null,
      "display": null,
      "flex": null,
      "flex_flow": null,
      "grid_area": null,
      "grid_auto_columns": null,
      "grid_auto_flow": null,
      "grid_auto_rows": null,
      "grid_column": null,
      "grid_gap": null,
      "grid_row": null,
      "grid_template_areas": null,
      "grid_template_columns": null,
      "grid_template_rows": null,
      "height": null,
      "justify_content": null,
      "justify_items": null,
      "left": null,
      "margin": null,
      "max_height": null,
      "max_width": null,
      "min_height": null,
      "min_width": null,
      "object_fit": null,
      "object_position": null,
      "order": null,
      "overflow": null,
      "overflow_x": null,
      "overflow_y": null,
      "padding": null,
      "right": null,
      "top": null,
      "visibility": null,
      "width": null
     }
    },
    "2b305ebad6b24075985d7630e88caae7": {
     "model_module": "@jupyter-widgets/controls",
     "model_module_version": "1.5.0",
     "model_name": "ProgressStyleModel",
     "state": {
      "_model_module": "@jupyter-widgets/controls",
      "_model_module_version": "1.5.0",
      "_model_name": "ProgressStyleModel",
      "_view_count": null,
      "_view_module": "@jupyter-widgets/base",
      "_view_module_version": "1.2.0",
      "_view_name": "StyleView",
      "bar_color": null,
      "description_width": ""
     }
    },
    "2c1ee5667ac542d68cd879f80e7374e9": {
     "model_module": "@jupyter-widgets/controls",
     "model_module_version": "1.5.0",
     "model_name": "DescriptionStyleModel",
     "state": {
      "_model_module": "@jupyter-widgets/controls",
      "_model_module_version": "1.5.0",
      "_model_name": "DescriptionStyleModel",
      "_view_count": null,
      "_view_module": "@jupyter-widgets/base",
      "_view_module_version": "1.2.0",
      "_view_name": "StyleView",
      "description_width": ""
     }
    },
    "2e59f6678dc942ebb270075480e567c4": {
     "model_module": "@jupyter-widgets/base",
     "model_module_version": "1.2.0",
     "model_name": "LayoutModel",
     "state": {
      "_model_module": "@jupyter-widgets/base",
      "_model_module_version": "1.2.0",
      "_model_name": "LayoutModel",
      "_view_count": null,
      "_view_module": "@jupyter-widgets/base",
      "_view_module_version": "1.2.0",
      "_view_name": "LayoutView",
      "align_content": null,
      "align_items": null,
      "align_self": null,
      "border": null,
      "bottom": null,
      "display": null,
      "flex": null,
      "flex_flow": null,
      "grid_area": null,
      "grid_auto_columns": null,
      "grid_auto_flow": null,
      "grid_auto_rows": null,
      "grid_column": null,
      "grid_gap": null,
      "grid_row": null,
      "grid_template_areas": null,
      "grid_template_columns": null,
      "grid_template_rows": null,
      "height": null,
      "justify_content": null,
      "justify_items": null,
      "left": null,
      "margin": null,
      "max_height": null,
      "max_width": null,
      "min_height": null,
      "min_width": null,
      "object_fit": null,
      "object_position": null,
      "order": null,
      "overflow": null,
      "overflow_x": null,
      "overflow_y": null,
      "padding": null,
      "right": null,
      "top": null,
      "visibility": null,
      "width": null
     }
    },
    "2e7a0753c6eb4ef29637216d24276772": {
     "model_module": "@jupyter-widgets/controls",
     "model_module_version": "1.5.0",
     "model_name": "DescriptionStyleModel",
     "state": {
      "_model_module": "@jupyter-widgets/controls",
      "_model_module_version": "1.5.0",
      "_model_name": "DescriptionStyleModel",
      "_view_count": null,
      "_view_module": "@jupyter-widgets/base",
      "_view_module_version": "1.2.0",
      "_view_name": "StyleView",
      "description_width": ""
     }
    },
    "313c3ae4618247b7a15f4a94c01fdb4c": {
     "model_module": "@jupyter-widgets/controls",
     "model_module_version": "1.5.0",
     "model_name": "HTMLModel",
     "state": {
      "_dom_classes": [],
      "_model_module": "@jupyter-widgets/controls",
      "_model_module_version": "1.5.0",
      "_model_name": "HTMLModel",
      "_view_count": null,
      "_view_module": "@jupyter-widgets/controls",
      "_view_module_version": "1.5.0",
      "_view_name": "HTMLView",
      "description": "",
      "description_tooltip": null,
      "layout": "IPY_MODEL_bebe342beca44111bf50c08a4d174b26",
      "placeholder": "​",
      "style": "IPY_MODEL_f354926b471d4c52a1c1fcfa5a264d28",
      "value": " 4/4 [00:03&lt;00:00,  1.55 url/s]"
     }
    },
    "351cbbe1768045319098cd4f73b457eb": {
     "model_module": "@jupyter-widgets/controls",
     "model_module_version": "1.5.0",
     "model_name": "HBoxModel",
     "state": {
      "_dom_classes": [],
      "_model_module": "@jupyter-widgets/controls",
      "_model_module_version": "1.5.0",
      "_model_name": "HBoxModel",
      "_view_count": null,
      "_view_module": "@jupyter-widgets/controls",
      "_view_module_version": "1.5.0",
      "_view_name": "HBoxView",
      "box_style": "",
      "children": [
       "IPY_MODEL_59f5bf44be4543b1aa1e7144d99f4612",
       "IPY_MODEL_48278a1cf61c49d9a64b072b898d7d34",
       "IPY_MODEL_3ca1143dbcc843ff9358cc6628490199"
      ],
      "layout": "IPY_MODEL_0564c91850c14b8e9854329efdad5b20"
     }
    },
    "37f17419fd974d73ad64d9e242c17eeb": {
     "model_module": "@jupyter-widgets/base",
     "model_module_version": "1.2.0",
     "model_name": "LayoutModel",
     "state": {
      "_model_module": "@jupyter-widgets/base",
      "_model_module_version": "1.2.0",
      "_model_name": "LayoutModel",
      "_view_count": null,
      "_view_module": "@jupyter-widgets/base",
      "_view_module_version": "1.2.0",
      "_view_name": "LayoutView",
      "align_content": null,
      "align_items": null,
      "align_self": null,
      "border": null,
      "bottom": null,
      "display": null,
      "flex": null,
      "flex_flow": null,
      "grid_area": null,
      "grid_auto_columns": null,
      "grid_auto_flow": null,
      "grid_auto_rows": null,
      "grid_column": null,
      "grid_gap": null,
      "grid_row": null,
      "grid_template_areas": null,
      "grid_template_columns": null,
      "grid_template_rows": null,
      "height": null,
      "justify_content": null,
      "justify_items": null,
      "left": null,
      "margin": null,
      "max_height": null,
      "max_width": null,
      "min_height": null,
      "min_width": null,
      "object_fit": null,
      "object_position": null,
      "order": null,
      "overflow": null,
      "overflow_x": null,
      "overflow_y": null,
      "padding": null,
      "right": null,
      "top": null,
      "visibility": null,
      "width": null
     }
    },
    "37ffa744b93a49fbbf1ec2263145eda3": {
     "model_module": "@jupyter-widgets/controls",
     "model_module_version": "1.5.0",
     "model_name": "HBoxModel",
     "state": {
      "_dom_classes": [],
      "_model_module": "@jupyter-widgets/controls",
      "_model_module_version": "1.5.0",
      "_model_name": "HBoxModel",
      "_view_count": null,
      "_view_module": "@jupyter-widgets/controls",
      "_view_module_version": "1.5.0",
      "_view_name": "HBoxView",
      "box_style": "",
      "children": [
       "IPY_MODEL_56dfff2157c64f298245dc2e9ddf5506",
       "IPY_MODEL_b88680f2feb44256a7a24771aaab6d5b",
       "IPY_MODEL_8b8fe3a1ec0d4291a1ee29df5e1d54a9"
      ],
      "layout": "IPY_MODEL_9f7276b271ad413facadb7a299252bf4"
     }
    },
    "3ca1143dbcc843ff9358cc6628490199": {
     "model_module": "@jupyter-widgets/controls",
     "model_module_version": "1.5.0",
     "model_name": "HTMLModel",
     "state": {
      "_dom_classes": [],
      "_model_module": "@jupyter-widgets/controls",
      "_model_module_version": "1.5.0",
      "_model_name": "HTMLModel",
      "_view_count": null,
      "_view_module": "@jupyter-widgets/controls",
      "_view_module_version": "1.5.0",
      "_view_name": "HTMLView",
      "description": "",
      "description_tooltip": null,
      "layout": "IPY_MODEL_1318e1860f10445a9f98fbf9f3915bfb",
      "placeholder": "​",
      "style": "IPY_MODEL_127abd84154a43c7ba820b9f1200f0c2",
      "value": " 29/29 [00:03&lt;00:00,  8.56 MiB/s]"
     }
    },
    "409dfa99c0024b46b154317cdc3846af": {
     "model_module": "@jupyter-widgets/controls",
     "model_module_version": "1.5.0",
     "model_name": "ProgressStyleModel",
     "state": {
      "_model_module": "@jupyter-widgets/controls",
      "_model_module_version": "1.5.0",
      "_model_name": "ProgressStyleModel",
      "_view_count": null,
      "_view_module": "@jupyter-widgets/base",
      "_view_module_version": "1.2.0",
      "_view_name": "StyleView",
      "bar_color": null,
      "description_width": ""
     }
    },
    "41efab4500e747e483cba3a892f1b8b6": {
     "model_module": "@jupyter-widgets/base",
     "model_module_version": "1.2.0",
     "model_name": "LayoutModel",
     "state": {
      "_model_module": "@jupyter-widgets/base",
      "_model_module_version": "1.2.0",
      "_model_name": "LayoutModel",
      "_view_count": null,
      "_view_module": "@jupyter-widgets/base",
      "_view_module_version": "1.2.0",
      "_view_name": "LayoutView",
      "align_content": null,
      "align_items": null,
      "align_self": null,
      "border": null,
      "bottom": null,
      "display": null,
      "flex": null,
      "flex_flow": null,
      "grid_area": null,
      "grid_auto_columns": null,
      "grid_auto_flow": null,
      "grid_auto_rows": null,
      "grid_column": null,
      "grid_gap": null,
      "grid_row": null,
      "grid_template_areas": null,
      "grid_template_columns": null,
      "grid_template_rows": null,
      "height": null,
      "justify_content": null,
      "justify_items": null,
      "left": null,
      "margin": null,
      "max_height": null,
      "max_width": null,
      "min_height": null,
      "min_width": null,
      "object_fit": null,
      "object_position": null,
      "order": null,
      "overflow": null,
      "overflow_x": null,
      "overflow_y": null,
      "padding": null,
      "right": null,
      "top": null,
      "visibility": null,
      "width": null
     }
    },
    "48278a1cf61c49d9a64b072b898d7d34": {
     "model_module": "@jupyter-widgets/controls",
     "model_module_version": "1.5.0",
     "model_name": "FloatProgressModel",
     "state": {
      "_dom_classes": [],
      "_model_module": "@jupyter-widgets/controls",
      "_model_module_version": "1.5.0",
      "_model_name": "FloatProgressModel",
      "_view_count": null,
      "_view_module": "@jupyter-widgets/controls",
      "_view_module_version": "1.5.0",
      "_view_name": "ProgressView",
      "bar_style": "success",
      "description": "",
      "description_tooltip": null,
      "layout": "IPY_MODEL_e890cace8c75450f8c91636f7c7935d1",
      "max": 1,
      "min": 0,
      "orientation": "horizontal",
      "style": "IPY_MODEL_a0dab2fa65314a64bf81022fb9567ca4",
      "value": 1
     }
    },
    "4bc8fe45b9df4919945bb30a0415d0d1": {
     "model_module": "@jupyter-widgets/base",
     "model_module_version": "1.2.0",
     "model_name": "LayoutModel",
     "state": {
      "_model_module": "@jupyter-widgets/base",
      "_model_module_version": "1.2.0",
      "_model_name": "LayoutModel",
      "_view_count": null,
      "_view_module": "@jupyter-widgets/base",
      "_view_module_version": "1.2.0",
      "_view_name": "LayoutView",
      "align_content": null,
      "align_items": null,
      "align_self": null,
      "border": null,
      "bottom": null,
      "display": null,
      "flex": null,
      "flex_flow": null,
      "grid_area": null,
      "grid_auto_columns": null,
      "grid_auto_flow": null,
      "grid_auto_rows": null,
      "grid_column": null,
      "grid_gap": null,
      "grid_row": null,
      "grid_template_areas": null,
      "grid_template_columns": null,
      "grid_template_rows": null,
      "height": null,
      "justify_content": null,
      "justify_items": null,
      "left": null,
      "margin": null,
      "max_height": null,
      "max_width": null,
      "min_height": null,
      "min_width": null,
      "object_fit": null,
      "object_position": null,
      "order": null,
      "overflow": null,
      "overflow_x": null,
      "overflow_y": null,
      "padding": null,
      "right": null,
      "top": null,
      "visibility": null,
      "width": null
     }
    },
    "4d733162014d49489f9d91f7da339c2f": {
     "model_module": "@jupyter-widgets/controls",
     "model_module_version": "1.5.0",
     "model_name": "FloatProgressModel",
     "state": {
      "_dom_classes": [],
      "_model_module": "@jupyter-widgets/controls",
      "_model_module_version": "1.5.0",
      "_model_name": "FloatProgressModel",
      "_view_count": null,
      "_view_module": "@jupyter-widgets/controls",
      "_view_module_version": "1.5.0",
      "_view_name": "ProgressView",
      "bar_style": "",
      "description": "",
      "description_tooltip": null,
      "layout": "IPY_MODEL_dfe953066dd340dda355ab8c9097c56f",
      "max": 60000,
      "min": 0,
      "orientation": "horizontal",
      "style": "IPY_MODEL_2b305ebad6b24075985d7630e88caae7",
      "value": 60000
     }
    },
    "4dea8f603bc445f4820a3ca7817b52fa": {
     "model_module": "@jupyter-widgets/controls",
     "model_module_version": "1.5.0",
     "model_name": "ProgressStyleModel",
     "state": {
      "_model_module": "@jupyter-widgets/controls",
      "_model_module_version": "1.5.0",
      "_model_name": "ProgressStyleModel",
      "_view_count": null,
      "_view_module": "@jupyter-widgets/base",
      "_view_module_version": "1.2.0",
      "_view_name": "StyleView",
      "bar_color": null,
      "description_width": ""
     }
    },
    "50da0edfe7384fc4afb43839842ceebd": {
     "model_module": "@jupyter-widgets/controls",
     "model_module_version": "1.5.0",
     "model_name": "DescriptionStyleModel",
     "state": {
      "_model_module": "@jupyter-widgets/controls",
      "_model_module_version": "1.5.0",
      "_model_name": "DescriptionStyleModel",
      "_view_count": null,
      "_view_module": "@jupyter-widgets/base",
      "_view_module_version": "1.2.0",
      "_view_name": "StyleView",
      "description_width": ""
     }
    },
    "52ae891f43db46909efd32486a706668": {
     "model_module": "@jupyter-widgets/base",
     "model_module_version": "1.2.0",
     "model_name": "LayoutModel",
     "state": {
      "_model_module": "@jupyter-widgets/base",
      "_model_module_version": "1.2.0",
      "_model_name": "LayoutModel",
      "_view_count": null,
      "_view_module": "@jupyter-widgets/base",
      "_view_module_version": "1.2.0",
      "_view_name": "LayoutView",
      "align_content": null,
      "align_items": null,
      "align_self": null,
      "border": null,
      "bottom": null,
      "display": null,
      "flex": null,
      "flex_flow": null,
      "grid_area": null,
      "grid_auto_columns": null,
      "grid_auto_flow": null,
      "grid_auto_rows": null,
      "grid_column": null,
      "grid_gap": null,
      "grid_row": null,
      "grid_template_areas": null,
      "grid_template_columns": null,
      "grid_template_rows": null,
      "height": null,
      "justify_content": null,
      "justify_items": null,
      "left": null,
      "margin": null,
      "max_height": null,
      "max_width": null,
      "min_height": null,
      "min_width": null,
      "object_fit": null,
      "object_position": null,
      "order": null,
      "overflow": null,
      "overflow_x": null,
      "overflow_y": null,
      "padding": null,
      "right": null,
      "top": null,
      "visibility": null,
      "width": null
     }
    },
    "54f1d535dae54c7497fd95eb113db88f": {
     "model_module": "@jupyter-widgets/base",
     "model_module_version": "1.2.0",
     "model_name": "LayoutModel",
     "state": {
      "_model_module": "@jupyter-widgets/base",
      "_model_module_version": "1.2.0",
      "_model_name": "LayoutModel",
      "_view_count": null,
      "_view_module": "@jupyter-widgets/base",
      "_view_module_version": "1.2.0",
      "_view_name": "LayoutView",
      "align_content": null,
      "align_items": null,
      "align_self": null,
      "border": null,
      "bottom": null,
      "display": null,
      "flex": null,
      "flex_flow": null,
      "grid_area": null,
      "grid_auto_columns": null,
      "grid_auto_flow": null,
      "grid_auto_rows": null,
      "grid_column": null,
      "grid_gap": null,
      "grid_row": null,
      "grid_template_areas": null,
      "grid_template_columns": null,
      "grid_template_rows": null,
      "height": null,
      "justify_content": null,
      "justify_items": null,
      "left": null,
      "margin": null,
      "max_height": null,
      "max_width": null,
      "min_height": null,
      "min_width": null,
      "object_fit": null,
      "object_position": null,
      "order": null,
      "overflow": null,
      "overflow_x": null,
      "overflow_y": null,
      "padding": null,
      "right": null,
      "top": null,
      "visibility": "hidden",
      "width": null
     }
    },
    "557a3acdf35c4a3a9e7c75580de101ad": {
     "model_module": "@jupyter-widgets/controls",
     "model_module_version": "1.5.0",
     "model_name": "HTMLModel",
     "state": {
      "_dom_classes": [],
      "_model_module": "@jupyter-widgets/controls",
      "_model_module_version": "1.5.0",
      "_model_name": "HTMLModel",
      "_view_count": null,
      "_view_module": "@jupyter-widgets/controls",
      "_view_module_version": "1.5.0",
      "_view_name": "HTMLView",
      "description": "",
      "description_tooltip": null,
      "layout": "IPY_MODEL_845fed98e7544c8b95ac67e452c9b727",
      "placeholder": "​",
      "style": "IPY_MODEL_66679ac91ca243a2a9803624d9e6aa56",
      "value": " 2/2 [00:28&lt;00:00, 12.38s/ splits]"
     }
    },
    "55e5ae92023049128d8e81f4c4caab4f": {
     "model_module": "@jupyter-widgets/controls",
     "model_module_version": "1.5.0",
     "model_name": "ProgressStyleModel",
     "state": {
      "_model_module": "@jupyter-widgets/controls",
      "_model_module_version": "1.5.0",
      "_model_name": "ProgressStyleModel",
      "_view_count": null,
      "_view_module": "@jupyter-widgets/base",
      "_view_module_version": "1.2.0",
      "_view_name": "StyleView",
      "bar_color": null,
      "description_width": ""
     }
    },
    "56dfff2157c64f298245dc2e9ddf5506": {
     "model_module": "@jupyter-widgets/controls",
     "model_module_version": "1.5.0",
     "model_name": "HTMLModel",
     "state": {
      "_dom_classes": [],
      "_model_module": "@jupyter-widgets/controls",
      "_model_module_version": "1.5.0",
      "_model_name": "HTMLModel",
      "_view_count": null,
      "_view_module": "@jupyter-widgets/controls",
      "_view_module_version": "1.5.0",
      "_view_name": "HTMLView",
      "description": "",
      "description_tooltip": null,
      "layout": "IPY_MODEL_37f17419fd974d73ad64d9e242c17eeb",
      "placeholder": "​",
      "style": "IPY_MODEL_8ccb0046a6e24a4881d685803fec5526",
      "value": "Generating test examples...:  80%"
     }
    },
    "5863ababd46f421d858e9693cb34a052": {
     "model_module": "@jupyter-widgets/controls",
     "model_module_version": "1.5.0",
     "model_name": "ProgressStyleModel",
     "state": {
      "_model_module": "@jupyter-widgets/controls",
      "_model_module_version": "1.5.0",
      "_model_name": "ProgressStyleModel",
      "_view_count": null,
      "_view_module": "@jupyter-widgets/base",
      "_view_module_version": "1.2.0",
      "_view_name": "StyleView",
      "bar_color": null,
      "description_width": ""
     }
    },
    "59f5bf44be4543b1aa1e7144d99f4612": {
     "model_module": "@jupyter-widgets/controls",
     "model_module_version": "1.5.0",
     "model_name": "HTMLModel",
     "state": {
      "_dom_classes": [],
      "_model_module": "@jupyter-widgets/controls",
      "_model_module_version": "1.5.0",
      "_model_name": "HTMLModel",
      "_view_count": null,
      "_view_module": "@jupyter-widgets/controls",
      "_view_module_version": "1.5.0",
      "_view_name": "HTMLView",
      "description": "",
      "description_tooltip": null,
      "layout": "IPY_MODEL_ef6a75445fb44885963e6c46f8b8f8f3",
      "placeholder": "​",
      "style": "IPY_MODEL_216a689452ae4555bfbf7de3bb509b5d",
      "value": "Dl Size...: 100%"
     }
    },
    "65834510963f4198a23dd7262a06070c": {
     "model_module": "@jupyter-widgets/controls",
     "model_module_version": "1.5.0",
     "model_name": "DescriptionStyleModel",
     "state": {
      "_model_module": "@jupyter-widgets/controls",
      "_model_module_version": "1.5.0",
      "_model_name": "DescriptionStyleModel",
      "_view_count": null,
      "_view_module": "@jupyter-widgets/base",
      "_view_module_version": "1.2.0",
      "_view_name": "StyleView",
      "description_width": ""
     }
    },
    "66324cc317ab495ca3575126781ecbef": {
     "model_module": "@jupyter-widgets/controls",
     "model_module_version": "1.5.0",
     "model_name": "DescriptionStyleModel",
     "state": {
      "_model_module": "@jupyter-widgets/controls",
      "_model_module_version": "1.5.0",
      "_model_name": "DescriptionStyleModel",
      "_view_count": null,
      "_view_module": "@jupyter-widgets/base",
      "_view_module_version": "1.2.0",
      "_view_name": "StyleView",
      "description_width": ""
     }
    },
    "66679ac91ca243a2a9803624d9e6aa56": {
     "model_module": "@jupyter-widgets/controls",
     "model_module_version": "1.5.0",
     "model_name": "DescriptionStyleModel",
     "state": {
      "_model_module": "@jupyter-widgets/controls",
      "_model_module_version": "1.5.0",
      "_model_name": "DescriptionStyleModel",
      "_view_count": null,
      "_view_module": "@jupyter-widgets/base",
      "_view_module_version": "1.2.0",
      "_view_name": "StyleView",
      "description_width": ""
     }
    },
    "692d7dc1a4d24abca84175d33a8c93d9": {
     "model_module": "@jupyter-widgets/controls",
     "model_module_version": "1.5.0",
     "model_name": "FloatProgressModel",
     "state": {
      "_dom_classes": [],
      "_model_module": "@jupyter-widgets/controls",
      "_model_module_version": "1.5.0",
      "_model_name": "FloatProgressModel",
      "_view_count": null,
      "_view_module": "@jupyter-widgets/controls",
      "_view_module_version": "1.5.0",
      "_view_name": "ProgressView",
      "bar_style": "",
      "description": "",
      "description_tooltip": null,
      "layout": "IPY_MODEL_c71ea9fe62ee406d96074cfe287c90a6",
      "max": 60000,
      "min": 0,
      "orientation": "horizontal",
      "style": "IPY_MODEL_ed5297e6528f4c47a0178ac7a3115ace",
      "value": 60000
     }
    },
    "69bc0aeec8264892aeab50077d948d30": {
     "model_module": "@jupyter-widgets/controls",
     "model_module_version": "1.5.0",
     "model_name": "HTMLModel",
     "state": {
      "_dom_classes": [],
      "_model_module": "@jupyter-widgets/controls",
      "_model_module_version": "1.5.0",
      "_model_name": "HTMLModel",
      "_view_count": null,
      "_view_module": "@jupyter-widgets/controls",
      "_view_module_version": "1.5.0",
      "_view_name": "HTMLView",
      "description": "",
      "description_tooltip": null,
      "layout": "IPY_MODEL_73b1c0f1cb4045caad256f042dcc0345",
      "placeholder": "​",
      "style": "IPY_MODEL_50da0edfe7384fc4afb43839842ceebd",
      "value": "Shuffling /root/tensorflow_datasets/fashion_mnist/3.0.1.incomplete8T271L/fashion_mnist-test.tfrecord*...:   0%"
     }
    },
    "6db937063cd74a2aa20b8dfa43254963": {
     "model_module": "@jupyter-widgets/controls",
     "model_module_version": "1.5.0",
     "model_name": "HTMLModel",
     "state": {
      "_dom_classes": [],
      "_model_module": "@jupyter-widgets/controls",
      "_model_module_version": "1.5.0",
      "_model_name": "HTMLModel",
      "_view_count": null,
      "_view_module": "@jupyter-widgets/controls",
      "_view_module_version": "1.5.0",
      "_view_name": "HTMLView",
      "description": "",
      "description_tooltip": null,
      "layout": "IPY_MODEL_299ddda3554641be8ce7b4455536b93c",
      "placeholder": "​",
      "style": "IPY_MODEL_66324cc317ab495ca3575126781ecbef",
      "value": "Dl Completed...: 100%"
     }
    },
    "73596392e5d44736a973d87983030d9a": {
     "model_module": "@jupyter-widgets/controls",
     "model_module_version": "1.5.0",
     "model_name": "FloatProgressModel",
     "state": {
      "_dom_classes": [],
      "_model_module": "@jupyter-widgets/controls",
      "_model_module_version": "1.5.0",
      "_model_name": "FloatProgressModel",
      "_view_count": null,
      "_view_module": "@jupyter-widgets/controls",
      "_view_module_version": "1.5.0",
      "_view_name": "ProgressView",
      "bar_style": "",
      "description": "",
      "description_tooltip": null,
      "layout": "IPY_MODEL_e1041959cd63467b96f85e7fef9c9cc6",
      "max": 10000,
      "min": 0,
      "orientation": "horizontal",
      "style": "IPY_MODEL_4dea8f603bc445f4820a3ca7817b52fa",
      "value": 10000
     }
    },
    "73b1c0f1cb4045caad256f042dcc0345": {
     "model_module": "@jupyter-widgets/base",
     "model_module_version": "1.2.0",
     "model_name": "LayoutModel",
     "state": {
      "_model_module": "@jupyter-widgets/base",
      "_model_module_version": "1.2.0",
      "_model_name": "LayoutModel",
      "_view_count": null,
      "_view_module": "@jupyter-widgets/base",
      "_view_module_version": "1.2.0",
      "_view_name": "LayoutView",
      "align_content": null,
      "align_items": null,
      "align_self": null,
      "border": null,
      "bottom": null,
      "display": null,
      "flex": null,
      "flex_flow": null,
      "grid_area": null,
      "grid_auto_columns": null,
      "grid_auto_flow": null,
      "grid_auto_rows": null,
      "grid_column": null,
      "grid_gap": null,
      "grid_row": null,
      "grid_template_areas": null,
      "grid_template_columns": null,
      "grid_template_rows": null,
      "height": null,
      "justify_content": null,
      "justify_items": null,
      "left": null,
      "margin": null,
      "max_height": null,
      "max_width": null,
      "min_height": null,
      "min_width": null,
      "object_fit": null,
      "object_position": null,
      "order": null,
      "overflow": null,
      "overflow_x": null,
      "overflow_y": null,
      "padding": null,
      "right": null,
      "top": null,
      "visibility": null,
      "width": null
     }
    },
    "79ec5351718248c39b8695ebe9e422b3": {
     "model_module": "@jupyter-widgets/base",
     "model_module_version": "1.2.0",
     "model_name": "LayoutModel",
     "state": {
      "_model_module": "@jupyter-widgets/base",
      "_model_module_version": "1.2.0",
      "_model_name": "LayoutModel",
      "_view_count": null,
      "_view_module": "@jupyter-widgets/base",
      "_view_module_version": "1.2.0",
      "_view_name": "LayoutView",
      "align_content": null,
      "align_items": null,
      "align_self": null,
      "border": null,
      "bottom": null,
      "display": null,
      "flex": null,
      "flex_flow": null,
      "grid_area": null,
      "grid_auto_columns": null,
      "grid_auto_flow": null,
      "grid_auto_rows": null,
      "grid_column": null,
      "grid_gap": null,
      "grid_row": null,
      "grid_template_areas": null,
      "grid_template_columns": null,
      "grid_template_rows": null,
      "height": null,
      "justify_content": null,
      "justify_items": null,
      "left": null,
      "margin": null,
      "max_height": null,
      "max_width": null,
      "min_height": null,
      "min_width": null,
      "object_fit": null,
      "object_position": null,
      "order": null,
      "overflow": null,
      "overflow_x": null,
      "overflow_y": null,
      "padding": null,
      "right": null,
      "top": null,
      "visibility": null,
      "width": null
     }
    },
    "7c19fd51f2c44acab018949bbd40495d": {
     "model_module": "@jupyter-widgets/controls",
     "model_module_version": "1.5.0",
     "model_name": "DescriptionStyleModel",
     "state": {
      "_model_module": "@jupyter-widgets/controls",
      "_model_module_version": "1.5.0",
      "_model_name": "DescriptionStyleModel",
      "_view_count": null,
      "_view_module": "@jupyter-widgets/base",
      "_view_module_version": "1.2.0",
      "_view_name": "StyleView",
      "description_width": ""
     }
    },
    "7ce980e1debb495f8a2bb537d53c680c": {
     "model_module": "@jupyter-widgets/base",
     "model_module_version": "1.2.0",
     "model_name": "LayoutModel",
     "state": {
      "_model_module": "@jupyter-widgets/base",
      "_model_module_version": "1.2.0",
      "_model_name": "LayoutModel",
      "_view_count": null,
      "_view_module": "@jupyter-widgets/base",
      "_view_module_version": "1.2.0",
      "_view_name": "LayoutView",
      "align_content": null,
      "align_items": null,
      "align_self": null,
      "border": null,
      "bottom": null,
      "display": null,
      "flex": null,
      "flex_flow": null,
      "grid_area": null,
      "grid_auto_columns": null,
      "grid_auto_flow": null,
      "grid_auto_rows": null,
      "grid_column": null,
      "grid_gap": null,
      "grid_row": null,
      "grid_template_areas": null,
      "grid_template_columns": null,
      "grid_template_rows": null,
      "height": null,
      "justify_content": null,
      "justify_items": null,
      "left": null,
      "margin": null,
      "max_height": null,
      "max_width": null,
      "min_height": null,
      "min_width": null,
      "object_fit": null,
      "object_position": null,
      "order": null,
      "overflow": null,
      "overflow_x": null,
      "overflow_y": null,
      "padding": null,
      "right": null,
      "top": null,
      "visibility": null,
      "width": null
     }
    },
    "7ddda68a4dc246469664c2ed27a50387": {
     "model_module": "@jupyter-widgets/controls",
     "model_module_version": "1.5.0",
     "model_name": "HTMLModel",
     "state": {
      "_dom_classes": [],
      "_model_module": "@jupyter-widgets/controls",
      "_model_module_version": "1.5.0",
      "_model_name": "HTMLModel",
      "_view_count": null,
      "_view_module": "@jupyter-widgets/controls",
      "_view_module_version": "1.5.0",
      "_view_name": "HTMLView",
      "description": "",
      "description_tooltip": null,
      "layout": "IPY_MODEL_e13cb60f2cc544d48602c34628ecb5ac",
      "placeholder": "​",
      "style": "IPY_MODEL_8b0112c9f4994ad38eaf0df25712af52",
      "value": " 59996/60000 [00:24&lt;00:00, 2431.06 examples/s]"
     }
    },
    "80d623f2fcf4480bba7bc874d2e12075": {
     "model_module": "@jupyter-widgets/controls",
     "model_module_version": "1.5.0",
     "model_name": "DescriptionStyleModel",
     "state": {
      "_model_module": "@jupyter-widgets/controls",
      "_model_module_version": "1.5.0",
      "_model_name": "DescriptionStyleModel",
      "_view_count": null,
      "_view_module": "@jupyter-widgets/base",
      "_view_module_version": "1.2.0",
      "_view_name": "StyleView",
      "description_width": ""
     }
    },
    "8192890c177945b0b79c7431e7f6a784": {
     "model_module": "@jupyter-widgets/controls",
     "model_module_version": "1.5.0",
     "model_name": "HBoxModel",
     "state": {
      "_dom_classes": [],
      "_model_module": "@jupyter-widgets/controls",
      "_model_module_version": "1.5.0",
      "_model_name": "HBoxModel",
      "_view_count": null,
      "_view_module": "@jupyter-widgets/controls",
      "_view_module_version": "1.5.0",
      "_view_name": "HBoxView",
      "box_style": "",
      "children": [
       "IPY_MODEL_1f82a0f2654342699d7a5cef71c3b97e",
       "IPY_MODEL_4d733162014d49489f9d91f7da339c2f",
       "IPY_MODEL_7ddda68a4dc246469664c2ed27a50387"
      ],
      "layout": "IPY_MODEL_edca91a3e27e4d0fbcef9ac6325bdf7a"
     }
    },
    "845fed98e7544c8b95ac67e452c9b727": {
     "model_module": "@jupyter-widgets/base",
     "model_module_version": "1.2.0",
     "model_name": "LayoutModel",
     "state": {
      "_model_module": "@jupyter-widgets/base",
      "_model_module_version": "1.2.0",
      "_model_name": "LayoutModel",
      "_view_count": null,
      "_view_module": "@jupyter-widgets/base",
      "_view_module_version": "1.2.0",
      "_view_name": "LayoutView",
      "align_content": null,
      "align_items": null,
      "align_self": null,
      "border": null,
      "bottom": null,
      "display": null,
      "flex": null,
      "flex_flow": null,
      "grid_area": null,
      "grid_auto_columns": null,
      "grid_auto_flow": null,
      "grid_auto_rows": null,
      "grid_column": null,
      "grid_gap": null,
      "grid_row": null,
      "grid_template_areas": null,
      "grid_template_columns": null,
      "grid_template_rows": null,
      "height": null,
      "justify_content": null,
      "justify_items": null,
      "left": null,
      "margin": null,
      "max_height": null,
      "max_width": null,
      "min_height": null,
      "min_width": null,
      "object_fit": null,
      "object_position": null,
      "order": null,
      "overflow": null,
      "overflow_x": null,
      "overflow_y": null,
      "padding": null,
      "right": null,
      "top": null,
      "visibility": null,
      "width": null
     }
    },
    "8b0112c9f4994ad38eaf0df25712af52": {
     "model_module": "@jupyter-widgets/controls",
     "model_module_version": "1.5.0",
     "model_name": "DescriptionStyleModel",
     "state": {
      "_model_module": "@jupyter-widgets/controls",
      "_model_module_version": "1.5.0",
      "_model_name": "DescriptionStyleModel",
      "_view_count": null,
      "_view_module": "@jupyter-widgets/base",
      "_view_module_version": "1.2.0",
      "_view_name": "StyleView",
      "description_width": ""
     }
    },
    "8b8fe3a1ec0d4291a1ee29df5e1d54a9": {
     "model_module": "@jupyter-widgets/controls",
     "model_module_version": "1.5.0",
     "model_name": "HTMLModel",
     "state": {
      "_dom_classes": [],
      "_model_module": "@jupyter-widgets/controls",
      "_model_module_version": "1.5.0",
      "_model_name": "HTMLModel",
      "_view_count": null,
      "_view_module": "@jupyter-widgets/controls",
      "_view_module_version": "1.5.0",
      "_view_name": "HTMLView",
      "description": "",
      "description_tooltip": null,
      "layout": "IPY_MODEL_03d1d50b3cdb4690804b14a7e4b61e05",
      "placeholder": "​",
      "style": "IPY_MODEL_2e7a0753c6eb4ef29637216d24276772",
      "value": " 7970/10000 [00:03&lt;00:00, 2673.27 examples/s]"
     }
    },
    "8c7c5d80949f4981af8bfc3547d3d330": {
     "model_module": "@jupyter-widgets/controls",
     "model_module_version": "1.5.0",
     "model_name": "HTMLModel",
     "state": {
      "_dom_classes": [],
      "_model_module": "@jupyter-widgets/controls",
      "_model_module_version": "1.5.0",
      "_model_name": "HTMLModel",
      "_view_count": null,
      "_view_module": "@jupyter-widgets/controls",
      "_view_module_version": "1.5.0",
      "_view_name": "HTMLView",
      "description": "",
      "description_tooltip": null,
      "layout": "IPY_MODEL_bd0cfc58206c499fb0d3e7242dc8214a",
      "placeholder": "​",
      "style": "IPY_MODEL_7c19fd51f2c44acab018949bbd40495d",
      "value": "Extraction completed...: 100%"
     }
    },
    "8ccb0046a6e24a4881d685803fec5526": {
     "model_module": "@jupyter-widgets/controls",
     "model_module_version": "1.5.0",
     "model_name": "DescriptionStyleModel",
     "state": {
      "_model_module": "@jupyter-widgets/controls",
      "_model_module_version": "1.5.0",
      "_model_name": "DescriptionStyleModel",
      "_view_count": null,
      "_view_module": "@jupyter-widgets/base",
      "_view_module_version": "1.2.0",
      "_view_name": "StyleView",
      "description_width": ""
     }
    },
    "9bc2d104543a457c8d1404182d5578b0": {
     "model_module": "@jupyter-widgets/base",
     "model_module_version": "1.2.0",
     "model_name": "LayoutModel",
     "state": {
      "_model_module": "@jupyter-widgets/base",
      "_model_module_version": "1.2.0",
      "_model_name": "LayoutModel",
      "_view_count": null,
      "_view_module": "@jupyter-widgets/base",
      "_view_module_version": "1.2.0",
      "_view_name": "LayoutView",
      "align_content": null,
      "align_items": null,
      "align_self": null,
      "border": null,
      "bottom": null,
      "display": null,
      "flex": null,
      "flex_flow": null,
      "grid_area": null,
      "grid_auto_columns": null,
      "grid_auto_flow": null,
      "grid_auto_rows": null,
      "grid_column": null,
      "grid_gap": null,
      "grid_row": null,
      "grid_template_areas": null,
      "grid_template_columns": null,
      "grid_template_rows": null,
      "height": null,
      "justify_content": null,
      "justify_items": null,
      "left": null,
      "margin": null,
      "max_height": null,
      "max_width": null,
      "min_height": null,
      "min_width": null,
      "object_fit": null,
      "object_position": null,
      "order": null,
      "overflow": null,
      "overflow_x": null,
      "overflow_y": null,
      "padding": null,
      "right": null,
      "top": null,
      "visibility": null,
      "width": null
     }
    },
    "9f7276b271ad413facadb7a299252bf4": {
     "model_module": "@jupyter-widgets/base",
     "model_module_version": "1.2.0",
     "model_name": "LayoutModel",
     "state": {
      "_model_module": "@jupyter-widgets/base",
      "_model_module_version": "1.2.0",
      "_model_name": "LayoutModel",
      "_view_count": null,
      "_view_module": "@jupyter-widgets/base",
      "_view_module_version": "1.2.0",
      "_view_name": "LayoutView",
      "align_content": null,
      "align_items": null,
      "align_self": null,
      "border": null,
      "bottom": null,
      "display": null,
      "flex": null,
      "flex_flow": null,
      "grid_area": null,
      "grid_auto_columns": null,
      "grid_auto_flow": null,
      "grid_auto_rows": null,
      "grid_column": null,
      "grid_gap": null,
      "grid_row": null,
      "grid_template_areas": null,
      "grid_template_columns": null,
      "grid_template_rows": null,
      "height": null,
      "justify_content": null,
      "justify_items": null,
      "left": null,
      "margin": null,
      "max_height": null,
      "max_width": null,
      "min_height": null,
      "min_width": null,
      "object_fit": null,
      "object_position": null,
      "order": null,
      "overflow": null,
      "overflow_x": null,
      "overflow_y": null,
      "padding": null,
      "right": null,
      "top": null,
      "visibility": "hidden",
      "width": null
     }
    },
    "a0dab2fa65314a64bf81022fb9567ca4": {
     "model_module": "@jupyter-widgets/controls",
     "model_module_version": "1.5.0",
     "model_name": "ProgressStyleModel",
     "state": {
      "_model_module": "@jupyter-widgets/controls",
      "_model_module_version": "1.5.0",
      "_model_name": "ProgressStyleModel",
      "_view_count": null,
      "_view_module": "@jupyter-widgets/base",
      "_view_module_version": "1.2.0",
      "_view_name": "StyleView",
      "bar_color": null,
      "description_width": ""
     }
    },
    "a1c7820c2d644041bdb350a4f29ed821": {
     "model_module": "@jupyter-widgets/controls",
     "model_module_version": "1.5.0",
     "model_name": "ProgressStyleModel",
     "state": {
      "_model_module": "@jupyter-widgets/controls",
      "_model_module_version": "1.5.0",
      "_model_name": "ProgressStyleModel",
      "_view_count": null,
      "_view_module": "@jupyter-widgets/base",
      "_view_module_version": "1.2.0",
      "_view_name": "StyleView",
      "bar_color": null,
      "description_width": ""
     }
    },
    "a4e6a86f75f9415c9da6c2757b0801ed": {
     "model_module": "@jupyter-widgets/controls",
     "model_module_version": "1.5.0",
     "model_name": "HBoxModel",
     "state": {
      "_dom_classes": [],
      "_model_module": "@jupyter-widgets/controls",
      "_model_module_version": "1.5.0",
      "_model_name": "HBoxModel",
      "_view_count": null,
      "_view_module": "@jupyter-widgets/controls",
      "_view_module_version": "1.5.0",
      "_view_name": "HBoxView",
      "box_style": "",
      "children": [
       "IPY_MODEL_8c7c5d80949f4981af8bfc3547d3d330",
       "IPY_MODEL_f4ef2498c8204fccafa0bd9c0094a0d8",
       "IPY_MODEL_efcc815cc126478c8c940026d529298b"
      ],
      "layout": "IPY_MODEL_e0b1bea692264b1180cffab06b3e2d92"
     }
    },
    "abce60c70a5a4414b3a490f2549a29ad": {
     "model_module": "@jupyter-widgets/controls",
     "model_module_version": "1.5.0",
     "model_name": "HBoxModel",
     "state": {
      "_dom_classes": [],
      "_model_module": "@jupyter-widgets/controls",
      "_model_module_version": "1.5.0",
      "_model_name": "HBoxModel",
      "_view_count": null,
      "_view_module": "@jupyter-widgets/controls",
      "_view_module_version": "1.5.0",
      "_view_name": "HBoxView",
      "box_style": "",
      "children": [
       "IPY_MODEL_69bc0aeec8264892aeab50077d948d30",
       "IPY_MODEL_73596392e5d44736a973d87983030d9a",
       "IPY_MODEL_ef8502cc139946c4984c5e47fff6a547"
      ],
      "layout": "IPY_MODEL_54f1d535dae54c7497fd95eb113db88f"
     }
    },
    "b19aba4e4ca2470795f2e5bac626a3f9": {
     "model_module": "@jupyter-widgets/base",
     "model_module_version": "1.2.0",
     "model_name": "LayoutModel",
     "state": {
      "_model_module": "@jupyter-widgets/base",
      "_model_module_version": "1.2.0",
      "_model_name": "LayoutModel",
      "_view_count": null,
      "_view_module": "@jupyter-widgets/base",
      "_view_module_version": "1.2.0",
      "_view_name": "LayoutView",
      "align_content": null,
      "align_items": null,
      "align_self": null,
      "border": null,
      "bottom": null,
      "display": null,
      "flex": null,
      "flex_flow": null,
      "grid_area": null,
      "grid_auto_columns": null,
      "grid_auto_flow": null,
      "grid_auto_rows": null,
      "grid_column": null,
      "grid_gap": null,
      "grid_row": null,
      "grid_template_areas": null,
      "grid_template_columns": null,
      "grid_template_rows": null,
      "height": null,
      "justify_content": null,
      "justify_items": null,
      "left": null,
      "margin": null,
      "max_height": null,
      "max_width": null,
      "min_height": null,
      "min_width": null,
      "object_fit": null,
      "object_position": null,
      "order": null,
      "overflow": null,
      "overflow_x": null,
      "overflow_y": null,
      "padding": null,
      "right": null,
      "top": null,
      "visibility": null,
      "width": null
     }
    },
    "b1af6d53c1554746951cc3686f77c8e4": {
     "model_module": "@jupyter-widgets/controls",
     "model_module_version": "1.5.0",
     "model_name": "HTMLModel",
     "state": {
      "_dom_classes": [],
      "_model_module": "@jupyter-widgets/controls",
      "_model_module_version": "1.5.0",
      "_model_name": "HTMLModel",
      "_view_count": null,
      "_view_module": "@jupyter-widgets/controls",
      "_view_module_version": "1.5.0",
      "_view_name": "HTMLView",
      "description": "",
      "description_tooltip": null,
      "layout": "IPY_MODEL_2e59f6678dc942ebb270075480e567c4",
      "placeholder": "​",
      "style": "IPY_MODEL_2c1ee5667ac542d68cd879f80e7374e9",
      "value": "Shuffling /root/tensorflow_datasets/fashion_mnist/3.0.1.incomplete8T271L/fashion_mnist-train.tfrecord*...:  56%"
     }
    },
    "b546a4dc382443b68f4b911eba735356": {
     "model_module": "@jupyter-widgets/controls",
     "model_module_version": "1.5.0",
     "model_name": "FloatProgressModel",
     "state": {
      "_dom_classes": [],
      "_model_module": "@jupyter-widgets/controls",
      "_model_module_version": "1.5.0",
      "_model_name": "FloatProgressModel",
      "_view_count": null,
      "_view_module": "@jupyter-widgets/controls",
      "_view_module_version": "1.5.0",
      "_view_name": "ProgressView",
      "bar_style": "",
      "description": "",
      "description_tooltip": null,
      "layout": "IPY_MODEL_f326cc6621f14ecd9b7750cf2a77c42d",
      "max": 2,
      "min": 0,
      "orientation": "horizontal",
      "style": "IPY_MODEL_55e5ae92023049128d8e81f4c4caab4f",
      "value": 2
     }
    },
    "b88680f2feb44256a7a24771aaab6d5b": {
     "model_module": "@jupyter-widgets/controls",
     "model_module_version": "1.5.0",
     "model_name": "FloatProgressModel",
     "state": {
      "_dom_classes": [],
      "_model_module": "@jupyter-widgets/controls",
      "_model_module_version": "1.5.0",
      "_model_name": "FloatProgressModel",
      "_view_count": null,
      "_view_module": "@jupyter-widgets/controls",
      "_view_module_version": "1.5.0",
      "_view_name": "ProgressView",
      "bar_style": "",
      "description": "",
      "description_tooltip": null,
      "layout": "IPY_MODEL_9bc2d104543a457c8d1404182d5578b0",
      "max": 10000,
      "min": 0,
      "orientation": "horizontal",
      "style": "IPY_MODEL_5863ababd46f421d858e9693cb34a052",
      "value": 10000
     }
    },
    "bd0cfc58206c499fb0d3e7242dc8214a": {
     "model_module": "@jupyter-widgets/base",
     "model_module_version": "1.2.0",
     "model_name": "LayoutModel",
     "state": {
      "_model_module": "@jupyter-widgets/base",
      "_model_module_version": "1.2.0",
      "_model_name": "LayoutModel",
      "_view_count": null,
      "_view_module": "@jupyter-widgets/base",
      "_view_module_version": "1.2.0",
      "_view_name": "LayoutView",
      "align_content": null,
      "align_items": null,
      "align_self": null,
      "border": null,
      "bottom": null,
      "display": null,
      "flex": null,
      "flex_flow": null,
      "grid_area": null,
      "grid_auto_columns": null,
      "grid_auto_flow": null,
      "grid_auto_rows": null,
      "grid_column": null,
      "grid_gap": null,
      "grid_row": null,
      "grid_template_areas": null,
      "grid_template_columns": null,
      "grid_template_rows": null,
      "height": null,
      "justify_content": null,
      "justify_items": null,
      "left": null,
      "margin": null,
      "max_height": null,
      "max_width": null,
      "min_height": null,
      "min_width": null,
      "object_fit": null,
      "object_position": null,
      "order": null,
      "overflow": null,
      "overflow_x": null,
      "overflow_y": null,
      "padding": null,
      "right": null,
      "top": null,
      "visibility": null,
      "width": null
     }
    },
    "bebe342beca44111bf50c08a4d174b26": {
     "model_module": "@jupyter-widgets/base",
     "model_module_version": "1.2.0",
     "model_name": "LayoutModel",
     "state": {
      "_model_module": "@jupyter-widgets/base",
      "_model_module_version": "1.2.0",
      "_model_name": "LayoutModel",
      "_view_count": null,
      "_view_module": "@jupyter-widgets/base",
      "_view_module_version": "1.2.0",
      "_view_name": "LayoutView",
      "align_content": null,
      "align_items": null,
      "align_self": null,
      "border": null,
      "bottom": null,
      "display": null,
      "flex": null,
      "flex_flow": null,
      "grid_area": null,
      "grid_auto_columns": null,
      "grid_auto_flow": null,
      "grid_auto_rows": null,
      "grid_column": null,
      "grid_gap": null,
      "grid_row": null,
      "grid_template_areas": null,
      "grid_template_columns": null,
      "grid_template_rows": null,
      "height": null,
      "justify_content": null,
      "justify_items": null,
      "left": null,
      "margin": null,
      "max_height": null,
      "max_width": null,
      "min_height": null,
      "min_width": null,
      "object_fit": null,
      "object_position": null,
      "order": null,
      "overflow": null,
      "overflow_x": null,
      "overflow_y": null,
      "padding": null,
      "right": null,
      "top": null,
      "visibility": null,
      "width": null
     }
    },
    "c2eb39514a334adc9c09032ada3b85f4": {
     "model_module": "@jupyter-widgets/controls",
     "model_module_version": "1.5.0",
     "model_name": "HTMLModel",
     "state": {
      "_dom_classes": [],
      "_model_module": "@jupyter-widgets/controls",
      "_model_module_version": "1.5.0",
      "_model_name": "HTMLModel",
      "_view_count": null,
      "_view_module": "@jupyter-widgets/controls",
      "_view_module_version": "1.5.0",
      "_view_name": "HTMLView",
      "description": "",
      "description_tooltip": null,
      "layout": "IPY_MODEL_79ec5351718248c39b8695ebe9e422b3",
      "placeholder": "​",
      "style": "IPY_MODEL_e130c43c3a574a7cac11fd61de7603a9",
      "value": " 33586/60000 [00:00&lt;00:00, 192553.53 examples/s]"
     }
    },
    "c71ea9fe62ee406d96074cfe287c90a6": {
     "model_module": "@jupyter-widgets/base",
     "model_module_version": "1.2.0",
     "model_name": "LayoutModel",
     "state": {
      "_model_module": "@jupyter-widgets/base",
      "_model_module_version": "1.2.0",
      "_model_name": "LayoutModel",
      "_view_count": null,
      "_view_module": "@jupyter-widgets/base",
      "_view_module_version": "1.2.0",
      "_view_name": "LayoutView",
      "align_content": null,
      "align_items": null,
      "align_self": null,
      "border": null,
      "bottom": null,
      "display": null,
      "flex": null,
      "flex_flow": null,
      "grid_area": null,
      "grid_auto_columns": null,
      "grid_auto_flow": null,
      "grid_auto_rows": null,
      "grid_column": null,
      "grid_gap": null,
      "grid_row": null,
      "grid_template_areas": null,
      "grid_template_columns": null,
      "grid_template_rows": null,
      "height": null,
      "justify_content": null,
      "justify_items": null,
      "left": null,
      "margin": null,
      "max_height": null,
      "max_width": null,
      "min_height": null,
      "min_width": null,
      "object_fit": null,
      "object_position": null,
      "order": null,
      "overflow": null,
      "overflow_x": null,
      "overflow_y": null,
      "padding": null,
      "right": null,
      "top": null,
      "visibility": null,
      "width": null
     }
    },
    "d4e090b4f0c64c21b20aa2488ead71d5": {
     "model_module": "@jupyter-widgets/base",
     "model_module_version": "1.2.0",
     "model_name": "LayoutModel",
     "state": {
      "_model_module": "@jupyter-widgets/base",
      "_model_module_version": "1.2.0",
      "_model_name": "LayoutModel",
      "_view_count": null,
      "_view_module": "@jupyter-widgets/base",
      "_view_module_version": "1.2.0",
      "_view_name": "LayoutView",
      "align_content": null,
      "align_items": null,
      "align_self": null,
      "border": null,
      "bottom": null,
      "display": null,
      "flex": null,
      "flex_flow": null,
      "grid_area": null,
      "grid_auto_columns": null,
      "grid_auto_flow": null,
      "grid_auto_rows": null,
      "grid_column": null,
      "grid_gap": null,
      "grid_row": null,
      "grid_template_areas": null,
      "grid_template_columns": null,
      "grid_template_rows": null,
      "height": null,
      "justify_content": null,
      "justify_items": null,
      "left": null,
      "margin": null,
      "max_height": null,
      "max_width": null,
      "min_height": null,
      "min_width": null,
      "object_fit": null,
      "object_position": null,
      "order": null,
      "overflow": null,
      "overflow_x": null,
      "overflow_y": null,
      "padding": null,
      "right": null,
      "top": null,
      "visibility": "hidden",
      "width": null
     }
    },
    "d7878bd749164f49aa6c305bc4596277": {
     "model_module": "@jupyter-widgets/controls",
     "model_module_version": "1.5.0",
     "model_name": "HBoxModel",
     "state": {
      "_dom_classes": [],
      "_model_module": "@jupyter-widgets/controls",
      "_model_module_version": "1.5.0",
      "_model_name": "HBoxModel",
      "_view_count": null,
      "_view_module": "@jupyter-widgets/controls",
      "_view_module_version": "1.5.0",
      "_view_name": "HBoxView",
      "box_style": "",
      "children": [
       "IPY_MODEL_eee7e6ef2dd045df88e58b367fe5481a",
       "IPY_MODEL_b546a4dc382443b68f4b911eba735356",
       "IPY_MODEL_557a3acdf35c4a3a9e7c75580de101ad"
      ],
      "layout": "IPY_MODEL_d4e090b4f0c64c21b20aa2488ead71d5"
     }
    },
    "d835434556df4232bc8178580abb9607": {
     "model_module": "@jupyter-widgets/base",
     "model_module_version": "1.2.0",
     "model_name": "LayoutModel",
     "state": {
      "_model_module": "@jupyter-widgets/base",
      "_model_module_version": "1.2.0",
      "_model_name": "LayoutModel",
      "_view_count": null,
      "_view_module": "@jupyter-widgets/base",
      "_view_module_version": "1.2.0",
      "_view_name": "LayoutView",
      "align_content": null,
      "align_items": null,
      "align_self": null,
      "border": null,
      "bottom": null,
      "display": null,
      "flex": null,
      "flex_flow": null,
      "grid_area": null,
      "grid_auto_columns": null,
      "grid_auto_flow": null,
      "grid_auto_rows": null,
      "grid_column": null,
      "grid_gap": null,
      "grid_row": null,
      "grid_template_areas": null,
      "grid_template_columns": null,
      "grid_template_rows": null,
      "height": null,
      "justify_content": null,
      "justify_items": null,
      "left": null,
      "margin": null,
      "max_height": null,
      "max_width": null,
      "min_height": null,
      "min_width": null,
      "object_fit": null,
      "object_position": null,
      "order": null,
      "overflow": null,
      "overflow_x": null,
      "overflow_y": null,
      "padding": null,
      "right": null,
      "top": null,
      "visibility": null,
      "width": "20px"
     }
    },
    "dc05877059984b1c8ab4727f2fd41d6b": {
     "model_module": "@jupyter-widgets/base",
     "model_module_version": "1.2.0",
     "model_name": "LayoutModel",
     "state": {
      "_model_module": "@jupyter-widgets/base",
      "_model_module_version": "1.2.0",
      "_model_name": "LayoutModel",
      "_view_count": null,
      "_view_module": "@jupyter-widgets/base",
      "_view_module_version": "1.2.0",
      "_view_name": "LayoutView",
      "align_content": null,
      "align_items": null,
      "align_self": null,
      "border": null,
      "bottom": null,
      "display": null,
      "flex": null,
      "flex_flow": null,
      "grid_area": null,
      "grid_auto_columns": null,
      "grid_auto_flow": null,
      "grid_auto_rows": null,
      "grid_column": null,
      "grid_gap": null,
      "grid_row": null,
      "grid_template_areas": null,
      "grid_template_columns": null,
      "grid_template_rows": null,
      "height": null,
      "justify_content": null,
      "justify_items": null,
      "left": null,
      "margin": null,
      "max_height": null,
      "max_width": null,
      "min_height": null,
      "min_width": null,
      "object_fit": null,
      "object_position": null,
      "order": null,
      "overflow": null,
      "overflow_x": null,
      "overflow_y": null,
      "padding": null,
      "right": null,
      "top": null,
      "visibility": null,
      "width": "20px"
     }
    },
    "dfe953066dd340dda355ab8c9097c56f": {
     "model_module": "@jupyter-widgets/base",
     "model_module_version": "1.2.0",
     "model_name": "LayoutModel",
     "state": {
      "_model_module": "@jupyter-widgets/base",
      "_model_module_version": "1.2.0",
      "_model_name": "LayoutModel",
      "_view_count": null,
      "_view_module": "@jupyter-widgets/base",
      "_view_module_version": "1.2.0",
      "_view_name": "LayoutView",
      "align_content": null,
      "align_items": null,
      "align_self": null,
      "border": null,
      "bottom": null,
      "display": null,
      "flex": null,
      "flex_flow": null,
      "grid_area": null,
      "grid_auto_columns": null,
      "grid_auto_flow": null,
      "grid_auto_rows": null,
      "grid_column": null,
      "grid_gap": null,
      "grid_row": null,
      "grid_template_areas": null,
      "grid_template_columns": null,
      "grid_template_rows": null,
      "height": null,
      "justify_content": null,
      "justify_items": null,
      "left": null,
      "margin": null,
      "max_height": null,
      "max_width": null,
      "min_height": null,
      "min_width": null,
      "object_fit": null,
      "object_position": null,
      "order": null,
      "overflow": null,
      "overflow_x": null,
      "overflow_y": null,
      "padding": null,
      "right": null,
      "top": null,
      "visibility": null,
      "width": null
     }
    },
    "e0b1bea692264b1180cffab06b3e2d92": {
     "model_module": "@jupyter-widgets/base",
     "model_module_version": "1.2.0",
     "model_name": "LayoutModel",
     "state": {
      "_model_module": "@jupyter-widgets/base",
      "_model_module_version": "1.2.0",
      "_model_name": "LayoutModel",
      "_view_count": null,
      "_view_module": "@jupyter-widgets/base",
      "_view_module_version": "1.2.0",
      "_view_name": "LayoutView",
      "align_content": null,
      "align_items": null,
      "align_self": null,
      "border": null,
      "bottom": null,
      "display": null,
      "flex": null,
      "flex_flow": null,
      "grid_area": null,
      "grid_auto_columns": null,
      "grid_auto_flow": null,
      "grid_auto_rows": null,
      "grid_column": null,
      "grid_gap": null,
      "grid_row": null,
      "grid_template_areas": null,
      "grid_template_columns": null,
      "grid_template_rows": null,
      "height": null,
      "justify_content": null,
      "justify_items": null,
      "left": null,
      "margin": null,
      "max_height": null,
      "max_width": null,
      "min_height": null,
      "min_width": null,
      "object_fit": null,
      "object_position": null,
      "order": null,
      "overflow": null,
      "overflow_x": null,
      "overflow_y": null,
      "padding": null,
      "right": null,
      "top": null,
      "visibility": null,
      "width": null
     }
    },
    "e1041959cd63467b96f85e7fef9c9cc6": {
     "model_module": "@jupyter-widgets/base",
     "model_module_version": "1.2.0",
     "model_name": "LayoutModel",
     "state": {
      "_model_module": "@jupyter-widgets/base",
      "_model_module_version": "1.2.0",
      "_model_name": "LayoutModel",
      "_view_count": null,
      "_view_module": "@jupyter-widgets/base",
      "_view_module_version": "1.2.0",
      "_view_name": "LayoutView",
      "align_content": null,
      "align_items": null,
      "align_self": null,
      "border": null,
      "bottom": null,
      "display": null,
      "flex": null,
      "flex_flow": null,
      "grid_area": null,
      "grid_auto_columns": null,
      "grid_auto_flow": null,
      "grid_auto_rows": null,
      "grid_column": null,
      "grid_gap": null,
      "grid_row": null,
      "grid_template_areas": null,
      "grid_template_columns": null,
      "grid_template_rows": null,
      "height": null,
      "justify_content": null,
      "justify_items": null,
      "left": null,
      "margin": null,
      "max_height": null,
      "max_width": null,
      "min_height": null,
      "min_width": null,
      "object_fit": null,
      "object_position": null,
      "order": null,
      "overflow": null,
      "overflow_x": null,
      "overflow_y": null,
      "padding": null,
      "right": null,
      "top": null,
      "visibility": null,
      "width": null
     }
    },
    "e130c43c3a574a7cac11fd61de7603a9": {
     "model_module": "@jupyter-widgets/controls",
     "model_module_version": "1.5.0",
     "model_name": "DescriptionStyleModel",
     "state": {
      "_model_module": "@jupyter-widgets/controls",
      "_model_module_version": "1.5.0",
      "_model_name": "DescriptionStyleModel",
      "_view_count": null,
      "_view_module": "@jupyter-widgets/base",
      "_view_module_version": "1.2.0",
      "_view_name": "StyleView",
      "description_width": ""
     }
    },
    "e13cb60f2cc544d48602c34628ecb5ac": {
     "model_module": "@jupyter-widgets/base",
     "model_module_version": "1.2.0",
     "model_name": "LayoutModel",
     "state": {
      "_model_module": "@jupyter-widgets/base",
      "_model_module_version": "1.2.0",
      "_model_name": "LayoutModel",
      "_view_count": null,
      "_view_module": "@jupyter-widgets/base",
      "_view_module_version": "1.2.0",
      "_view_name": "LayoutView",
      "align_content": null,
      "align_items": null,
      "align_self": null,
      "border": null,
      "bottom": null,
      "display": null,
      "flex": null,
      "flex_flow": null,
      "grid_area": null,
      "grid_auto_columns": null,
      "grid_auto_flow": null,
      "grid_auto_rows": null,
      "grid_column": null,
      "grid_gap": null,
      "grid_row": null,
      "grid_template_areas": null,
      "grid_template_columns": null,
      "grid_template_rows": null,
      "height": null,
      "justify_content": null,
      "justify_items": null,
      "left": null,
      "margin": null,
      "max_height": null,
      "max_width": null,
      "min_height": null,
      "min_width": null,
      "object_fit": null,
      "object_position": null,
      "order": null,
      "overflow": null,
      "overflow_x": null,
      "overflow_y": null,
      "padding": null,
      "right": null,
      "top": null,
      "visibility": null,
      "width": null
     }
    },
    "e890cace8c75450f8c91636f7c7935d1": {
     "model_module": "@jupyter-widgets/base",
     "model_module_version": "1.2.0",
     "model_name": "LayoutModel",
     "state": {
      "_model_module": "@jupyter-widgets/base",
      "_model_module_version": "1.2.0",
      "_model_name": "LayoutModel",
      "_view_count": null,
      "_view_module": "@jupyter-widgets/base",
      "_view_module_version": "1.2.0",
      "_view_name": "LayoutView",
      "align_content": null,
      "align_items": null,
      "align_self": null,
      "border": null,
      "bottom": null,
      "display": null,
      "flex": null,
      "flex_flow": null,
      "grid_area": null,
      "grid_auto_columns": null,
      "grid_auto_flow": null,
      "grid_auto_rows": null,
      "grid_column": null,
      "grid_gap": null,
      "grid_row": null,
      "grid_template_areas": null,
      "grid_template_columns": null,
      "grid_template_rows": null,
      "height": null,
      "justify_content": null,
      "justify_items": null,
      "left": null,
      "margin": null,
      "max_height": null,
      "max_width": null,
      "min_height": null,
      "min_width": null,
      "object_fit": null,
      "object_position": null,
      "order": null,
      "overflow": null,
      "overflow_x": null,
      "overflow_y": null,
      "padding": null,
      "right": null,
      "top": null,
      "visibility": null,
      "width": "20px"
     }
    },
    "e9bff8770fd94e8599c279b58b08bac3": {
     "model_module": "@jupyter-widgets/base",
     "model_module_version": "1.2.0",
     "model_name": "LayoutModel",
     "state": {
      "_model_module": "@jupyter-widgets/base",
      "_model_module_version": "1.2.0",
      "_model_name": "LayoutModel",
      "_view_count": null,
      "_view_module": "@jupyter-widgets/base",
      "_view_module_version": "1.2.0",
      "_view_name": "LayoutView",
      "align_content": null,
      "align_items": null,
      "align_self": null,
      "border": null,
      "bottom": null,
      "display": null,
      "flex": null,
      "flex_flow": null,
      "grid_area": null,
      "grid_auto_columns": null,
      "grid_auto_flow": null,
      "grid_auto_rows": null,
      "grid_column": null,
      "grid_gap": null,
      "grid_row": null,
      "grid_template_areas": null,
      "grid_template_columns": null,
      "grid_template_rows": null,
      "height": null,
      "justify_content": null,
      "justify_items": null,
      "left": null,
      "margin": null,
      "max_height": null,
      "max_width": null,
      "min_height": null,
      "min_width": null,
      "object_fit": null,
      "object_position": null,
      "order": null,
      "overflow": null,
      "overflow_x": null,
      "overflow_y": null,
      "padding": null,
      "right": null,
      "top": null,
      "visibility": "hidden",
      "width": null
     }
    },
    "ed5297e6528f4c47a0178ac7a3115ace": {
     "model_module": "@jupyter-widgets/controls",
     "model_module_version": "1.5.0",
     "model_name": "ProgressStyleModel",
     "state": {
      "_model_module": "@jupyter-widgets/controls",
      "_model_module_version": "1.5.0",
      "_model_name": "ProgressStyleModel",
      "_view_count": null,
      "_view_module": "@jupyter-widgets/base",
      "_view_module_version": "1.2.0",
      "_view_name": "StyleView",
      "bar_color": null,
      "description_width": ""
     }
    },
    "edca91a3e27e4d0fbcef9ac6325bdf7a": {
     "model_module": "@jupyter-widgets/base",
     "model_module_version": "1.2.0",
     "model_name": "LayoutModel",
     "state": {
      "_model_module": "@jupyter-widgets/base",
      "_model_module_version": "1.2.0",
      "_model_name": "LayoutModel",
      "_view_count": null,
      "_view_module": "@jupyter-widgets/base",
      "_view_module_version": "1.2.0",
      "_view_name": "LayoutView",
      "align_content": null,
      "align_items": null,
      "align_self": null,
      "border": null,
      "bottom": null,
      "display": null,
      "flex": null,
      "flex_flow": null,
      "grid_area": null,
      "grid_auto_columns": null,
      "grid_auto_flow": null,
      "grid_auto_rows": null,
      "grid_column": null,
      "grid_gap": null,
      "grid_row": null,
      "grid_template_areas": null,
      "grid_template_columns": null,
      "grid_template_rows": null,
      "height": null,
      "justify_content": null,
      "justify_items": null,
      "left": null,
      "margin": null,
      "max_height": null,
      "max_width": null,
      "min_height": null,
      "min_width": null,
      "object_fit": null,
      "object_position": null,
      "order": null,
      "overflow": null,
      "overflow_x": null,
      "overflow_y": null,
      "padding": null,
      "right": null,
      "top": null,
      "visibility": "hidden",
      "width": null
     }
    },
    "eee7e6ef2dd045df88e58b367fe5481a": {
     "model_module": "@jupyter-widgets/controls",
     "model_module_version": "1.5.0",
     "model_name": "HTMLModel",
     "state": {
      "_dom_classes": [],
      "_model_module": "@jupyter-widgets/controls",
      "_model_module_version": "1.5.0",
      "_model_name": "HTMLModel",
      "_view_count": null,
      "_view_module": "@jupyter-widgets/controls",
      "_view_module_version": "1.5.0",
      "_view_name": "HTMLView",
      "description": "",
      "description_tooltip": null,
      "layout": "IPY_MODEL_b19aba4e4ca2470795f2e5bac626a3f9",
      "placeholder": "​",
      "style": "IPY_MODEL_18bfd4c985a046ff934fad01ce36232e",
      "value": "Generating splits...: 100%"
     }
    },
    "ef6a75445fb44885963e6c46f8b8f8f3": {
     "model_module": "@jupyter-widgets/base",
     "model_module_version": "1.2.0",
     "model_name": "LayoutModel",
     "state": {
      "_model_module": "@jupyter-widgets/base",
      "_model_module_version": "1.2.0",
      "_model_name": "LayoutModel",
      "_view_count": null,
      "_view_module": "@jupyter-widgets/base",
      "_view_module_version": "1.2.0",
      "_view_name": "LayoutView",
      "align_content": null,
      "align_items": null,
      "align_self": null,
      "border": null,
      "bottom": null,
      "display": null,
      "flex": null,
      "flex_flow": null,
      "grid_area": null,
      "grid_auto_columns": null,
      "grid_auto_flow": null,
      "grid_auto_rows": null,
      "grid_column": null,
      "grid_gap": null,
      "grid_row": null,
      "grid_template_areas": null,
      "grid_template_columns": null,
      "grid_template_rows": null,
      "height": null,
      "justify_content": null,
      "justify_items": null,
      "left": null,
      "margin": null,
      "max_height": null,
      "max_width": null,
      "min_height": null,
      "min_width": null,
      "object_fit": null,
      "object_position": null,
      "order": null,
      "overflow": null,
      "overflow_x": null,
      "overflow_y": null,
      "padding": null,
      "right": null,
      "top": null,
      "visibility": null,
      "width": null
     }
    },
    "ef8502cc139946c4984c5e47fff6a547": {
     "model_module": "@jupyter-widgets/controls",
     "model_module_version": "1.5.0",
     "model_name": "HTMLModel",
     "state": {
      "_dom_classes": [],
      "_model_module": "@jupyter-widgets/controls",
      "_model_module_version": "1.5.0",
      "_model_name": "HTMLModel",
      "_view_count": null,
      "_view_module": "@jupyter-widgets/controls",
      "_view_module_version": "1.5.0",
      "_view_name": "HTMLView",
      "description": "",
      "description_tooltip": null,
      "layout": "IPY_MODEL_41efab4500e747e483cba3a892f1b8b6",
      "placeholder": "​",
      "style": "IPY_MODEL_65834510963f4198a23dd7262a06070c",
      "value": " 0/10000 [00:00&lt;?, ? examples/s]"
     }
    },
    "efcc815cc126478c8c940026d529298b": {
     "model_module": "@jupyter-widgets/controls",
     "model_module_version": "1.5.0",
     "model_name": "HTMLModel",
     "state": {
      "_dom_classes": [],
      "_model_module": "@jupyter-widgets/controls",
      "_model_module_version": "1.5.0",
      "_model_name": "HTMLModel",
      "_view_count": null,
      "_view_module": "@jupyter-widgets/controls",
      "_view_module_version": "1.5.0",
      "_view_name": "HTMLView",
      "description": "",
      "description_tooltip": null,
      "layout": "IPY_MODEL_52ae891f43db46909efd32486a706668",
      "placeholder": "​",
      "style": "IPY_MODEL_26aca8c0d96c40bfa0f7f143e424d4bc",
      "value": " 4/4 [00:03&lt;00:00,  1.49 file/s]"
     }
    },
    "f326cc6621f14ecd9b7750cf2a77c42d": {
     "model_module": "@jupyter-widgets/base",
     "model_module_version": "1.2.0",
     "model_name": "LayoutModel",
     "state": {
      "_model_module": "@jupyter-widgets/base",
      "_model_module_version": "1.2.0",
      "_model_name": "LayoutModel",
      "_view_count": null,
      "_view_module": "@jupyter-widgets/base",
      "_view_module_version": "1.2.0",
      "_view_name": "LayoutView",
      "align_content": null,
      "align_items": null,
      "align_self": null,
      "border": null,
      "bottom": null,
      "display": null,
      "flex": null,
      "flex_flow": null,
      "grid_area": null,
      "grid_auto_columns": null,
      "grid_auto_flow": null,
      "grid_auto_rows": null,
      "grid_column": null,
      "grid_gap": null,
      "grid_row": null,
      "grid_template_areas": null,
      "grid_template_columns": null,
      "grid_template_rows": null,
      "height": null,
      "justify_content": null,
      "justify_items": null,
      "left": null,
      "margin": null,
      "max_height": null,
      "max_width": null,
      "min_height": null,
      "min_width": null,
      "object_fit": null,
      "object_position": null,
      "order": null,
      "overflow": null,
      "overflow_x": null,
      "overflow_y": null,
      "padding": null,
      "right": null,
      "top": null,
      "visibility": null,
      "width": null
     }
    },
    "f354926b471d4c52a1c1fcfa5a264d28": {
     "model_module": "@jupyter-widgets/controls",
     "model_module_version": "1.5.0",
     "model_name": "DescriptionStyleModel",
     "state": {
      "_model_module": "@jupyter-widgets/controls",
      "_model_module_version": "1.5.0",
      "_model_name": "DescriptionStyleModel",
      "_view_count": null,
      "_view_module": "@jupyter-widgets/base",
      "_view_module_version": "1.2.0",
      "_view_name": "StyleView",
      "description_width": ""
     }
    },
    "f4ef2498c8204fccafa0bd9c0094a0d8": {
     "model_module": "@jupyter-widgets/controls",
     "model_module_version": "1.5.0",
     "model_name": "FloatProgressModel",
     "state": {
      "_dom_classes": [],
      "_model_module": "@jupyter-widgets/controls",
      "_model_module_version": "1.5.0",
      "_model_name": "FloatProgressModel",
      "_view_count": null,
      "_view_module": "@jupyter-widgets/controls",
      "_view_module_version": "1.5.0",
      "_view_name": "ProgressView",
      "bar_style": "success",
      "description": "",
      "description_tooltip": null,
      "layout": "IPY_MODEL_d835434556df4232bc8178580abb9607",
      "max": 1,
      "min": 0,
      "orientation": "horizontal",
      "style": "IPY_MODEL_a1c7820c2d644041bdb350a4f29ed821",
      "value": 1
     }
    }
   }
  }
 },
 "nbformat": 4,
 "nbformat_minor": 4
}
